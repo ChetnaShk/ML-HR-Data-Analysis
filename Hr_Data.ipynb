{
 "cells": [
  {
   "cell_type": "code",
   "execution_count": 1,
   "id": "8945a90b-3f8c-4fe3-b70c-eb936e22738f",
   "metadata": {
    "executionInfo": {
     "elapsed": 488,
     "status": "ok",
     "timestamp": 1657356895115,
     "user": {
      "displayName": "Omkar Nigade",
      "userId": "08511026517490603050"
     },
     "user_tz": -330
    },
    "id": "8945a90b-3f8c-4fe3-b70c-eb936e22738f"
   },
   "outputs": [],
   "source": [
    "# importing libraries\n",
    "import pandas as pd\n",
    "import numpy as np\n",
    "import matplotlib.pyplot as plt\n",
    "import seaborn as sns\n",
    "import warnings\n",
    "warnings.filterwarnings(\"ignore\")"
   ]
  },
  {
   "cell_type": "markdown",
   "id": "c9526e92",
   "metadata": {
    "colab": {
     "base_uri": "https://localhost:8080/"
    },
    "executionInfo": {
     "elapsed": 3618,
     "status": "ok",
     "timestamp": 1657356901174,
     "user": {
      "displayName": "Omkar Nigade",
      "userId": "08511026517490603050"
     },
     "user_tz": -330
    },
    "id": "3baec367-ff51-447f-be83-f8631f6e2b49",
    "outputId": "69211fd7-39b1-4e3d-f9e0-d34bdcaa6c34"
   },
   "source": [
    "pip install pyxlsb"
   ]
  },
  {
   "cell_type": "code",
   "execution_count": 2,
   "id": "c39d482a-cb58-4578-95fe-831ccaf185f7",
   "metadata": {
    "executionInfo": {
     "elapsed": 1576,
     "status": "ok",
     "timestamp": 1657356902739,
     "user": {
      "displayName": "Omkar Nigade",
      "userId": "08511026517490603050"
     },
     "user_tz": -330
    },
    "id": "c39d482a-cb58-4578-95fe-831ccaf185f7"
   },
   "outputs": [],
   "source": [
    "# reading data\n",
    "data = pd.read_excel(\"HR_Data.xlsb\", engine='pyxlsb')"
   ]
  },
  {
   "cell_type": "code",
   "execution_count": 3,
   "id": "ba3915c3-dfaa-4528-9cec-35028e2912a0",
   "metadata": {
    "colab": {
     "base_uri": "https://localhost:8080/",
     "height": 206
    },
    "executionInfo": {
     "elapsed": 66,
     "status": "ok",
     "timestamp": 1657356902740,
     "user": {
      "displayName": "Omkar Nigade",
      "userId": "08511026517490603050"
     },
     "user_tz": -330
    },
    "id": "ba3915c3-dfaa-4528-9cec-35028e2912a0",
    "outputId": "1387b7a4-e178-4c2c-8490-8b972f66ee76"
   },
   "outputs": [
    {
     "data": {
      "text/html": [
       "<div>\n",
       "<style scoped>\n",
       "    .dataframe tbody tr th:only-of-type {\n",
       "        vertical-align: middle;\n",
       "    }\n",
       "\n",
       "    .dataframe tbody tr th {\n",
       "        vertical-align: top;\n",
       "    }\n",
       "\n",
       "    .dataframe thead th {\n",
       "        text-align: right;\n",
       "    }\n",
       "</style>\n",
       "<table border=\"1\" class=\"dataframe\">\n",
       "  <thead>\n",
       "    <tr style=\"text-align: right;\">\n",
       "      <th></th>\n",
       "      <th>satisfaction_level</th>\n",
       "      <th>last_evaluation</th>\n",
       "      <th>number_project</th>\n",
       "      <th>average_montly_hours</th>\n",
       "      <th>time_spend_company</th>\n",
       "      <th>Work_accident</th>\n",
       "      <th>left</th>\n",
       "      <th>promotion_last_5years</th>\n",
       "      <th>Department</th>\n",
       "      <th>salary</th>\n",
       "    </tr>\n",
       "  </thead>\n",
       "  <tbody>\n",
       "    <tr>\n",
       "      <th>0</th>\n",
       "      <td>0.38</td>\n",
       "      <td>0.53</td>\n",
       "      <td>2</td>\n",
       "      <td>157</td>\n",
       "      <td>3</td>\n",
       "      <td>0</td>\n",
       "      <td>1</td>\n",
       "      <td>0</td>\n",
       "      <td>sales</td>\n",
       "      <td>low</td>\n",
       "    </tr>\n",
       "    <tr>\n",
       "      <th>1</th>\n",
       "      <td>0.80</td>\n",
       "      <td>0.86</td>\n",
       "      <td>5</td>\n",
       "      <td>262</td>\n",
       "      <td>6</td>\n",
       "      <td>0</td>\n",
       "      <td>1</td>\n",
       "      <td>0</td>\n",
       "      <td>sales</td>\n",
       "      <td>medium</td>\n",
       "    </tr>\n",
       "    <tr>\n",
       "      <th>2</th>\n",
       "      <td>0.11</td>\n",
       "      <td>0.88</td>\n",
       "      <td>7</td>\n",
       "      <td>272</td>\n",
       "      <td>4</td>\n",
       "      <td>0</td>\n",
       "      <td>1</td>\n",
       "      <td>0</td>\n",
       "      <td>sales</td>\n",
       "      <td>medium</td>\n",
       "    </tr>\n",
       "    <tr>\n",
       "      <th>3</th>\n",
       "      <td>0.72</td>\n",
       "      <td>0.87</td>\n",
       "      <td>5</td>\n",
       "      <td>223</td>\n",
       "      <td>5</td>\n",
       "      <td>0</td>\n",
       "      <td>1</td>\n",
       "      <td>0</td>\n",
       "      <td>sales</td>\n",
       "      <td>low</td>\n",
       "    </tr>\n",
       "    <tr>\n",
       "      <th>4</th>\n",
       "      <td>0.37</td>\n",
       "      <td>0.52</td>\n",
       "      <td>2</td>\n",
       "      <td>159</td>\n",
       "      <td>3</td>\n",
       "      <td>0</td>\n",
       "      <td>1</td>\n",
       "      <td>0</td>\n",
       "      <td>sales</td>\n",
       "      <td>low</td>\n",
       "    </tr>\n",
       "  </tbody>\n",
       "</table>\n",
       "</div>"
      ],
      "text/plain": [
       "   satisfaction_level  last_evaluation  number_project  average_montly_hours  \\\n",
       "0                0.38             0.53               2                   157   \n",
       "1                0.80             0.86               5                   262   \n",
       "2                0.11             0.88               7                   272   \n",
       "3                0.72             0.87               5                   223   \n",
       "4                0.37             0.52               2                   159   \n",
       "\n",
       "   time_spend_company  Work_accident  left  promotion_last_5years Department  \\\n",
       "0                   3              0     1                      0      sales   \n",
       "1                   6              0     1                      0      sales   \n",
       "2                   4              0     1                      0      sales   \n",
       "3                   5              0     1                      0      sales   \n",
       "4                   3              0     1                      0      sales   \n",
       "\n",
       "   salary  \n",
       "0     low  \n",
       "1  medium  \n",
       "2  medium  \n",
       "3     low  \n",
       "4     low  "
      ]
     },
     "execution_count": 3,
     "metadata": {},
     "output_type": "execute_result"
    }
   ],
   "source": [
    "# printing top 5 records\n",
    "data.head()"
   ]
  },
  {
   "cell_type": "code",
   "execution_count": 4,
   "id": "1441ce63-f6f1-474a-8888-4f9fd73b5df0",
   "metadata": {
    "colab": {
     "base_uri": "https://localhost:8080/",
     "height": 206
    },
    "executionInfo": {
     "elapsed": 63,
     "status": "ok",
     "timestamp": 1657356902741,
     "user": {
      "displayName": "Omkar Nigade",
      "userId": "08511026517490603050"
     },
     "user_tz": -330
    },
    "id": "1441ce63-f6f1-474a-8888-4f9fd73b5df0",
    "outputId": "191d826e-737e-42c2-9bb6-3e85415b9a50"
   },
   "outputs": [
    {
     "data": {
      "text/html": [
       "<div>\n",
       "<style scoped>\n",
       "    .dataframe tbody tr th:only-of-type {\n",
       "        vertical-align: middle;\n",
       "    }\n",
       "\n",
       "    .dataframe tbody tr th {\n",
       "        vertical-align: top;\n",
       "    }\n",
       "\n",
       "    .dataframe thead th {\n",
       "        text-align: right;\n",
       "    }\n",
       "</style>\n",
       "<table border=\"1\" class=\"dataframe\">\n",
       "  <thead>\n",
       "    <tr style=\"text-align: right;\">\n",
       "      <th></th>\n",
       "      <th>satisfaction_level</th>\n",
       "      <th>last_evaluation</th>\n",
       "      <th>number_project</th>\n",
       "      <th>average_montly_hours</th>\n",
       "      <th>time_spend_company</th>\n",
       "      <th>Work_accident</th>\n",
       "      <th>left</th>\n",
       "      <th>promotion_last_5years</th>\n",
       "      <th>Department</th>\n",
       "      <th>salary</th>\n",
       "    </tr>\n",
       "  </thead>\n",
       "  <tbody>\n",
       "    <tr>\n",
       "      <th>14994</th>\n",
       "      <td>0.40</td>\n",
       "      <td>0.57</td>\n",
       "      <td>2</td>\n",
       "      <td>151</td>\n",
       "      <td>3</td>\n",
       "      <td>0</td>\n",
       "      <td>1</td>\n",
       "      <td>0</td>\n",
       "      <td>support</td>\n",
       "      <td>low</td>\n",
       "    </tr>\n",
       "    <tr>\n",
       "      <th>14995</th>\n",
       "      <td>0.37</td>\n",
       "      <td>0.48</td>\n",
       "      <td>2</td>\n",
       "      <td>160</td>\n",
       "      <td>3</td>\n",
       "      <td>0</td>\n",
       "      <td>1</td>\n",
       "      <td>0</td>\n",
       "      <td>support</td>\n",
       "      <td>low</td>\n",
       "    </tr>\n",
       "    <tr>\n",
       "      <th>14996</th>\n",
       "      <td>0.37</td>\n",
       "      <td>0.53</td>\n",
       "      <td>2</td>\n",
       "      <td>143</td>\n",
       "      <td>3</td>\n",
       "      <td>0</td>\n",
       "      <td>1</td>\n",
       "      <td>0</td>\n",
       "      <td>support</td>\n",
       "      <td>low</td>\n",
       "    </tr>\n",
       "    <tr>\n",
       "      <th>14997</th>\n",
       "      <td>0.11</td>\n",
       "      <td>0.96</td>\n",
       "      <td>6</td>\n",
       "      <td>280</td>\n",
       "      <td>4</td>\n",
       "      <td>0</td>\n",
       "      <td>1</td>\n",
       "      <td>0</td>\n",
       "      <td>support</td>\n",
       "      <td>low</td>\n",
       "    </tr>\n",
       "    <tr>\n",
       "      <th>14998</th>\n",
       "      <td>0.37</td>\n",
       "      <td>0.52</td>\n",
       "      <td>2</td>\n",
       "      <td>158</td>\n",
       "      <td>3</td>\n",
       "      <td>0</td>\n",
       "      <td>1</td>\n",
       "      <td>0</td>\n",
       "      <td>support</td>\n",
       "      <td>low</td>\n",
       "    </tr>\n",
       "  </tbody>\n",
       "</table>\n",
       "</div>"
      ],
      "text/plain": [
       "       satisfaction_level  last_evaluation  number_project  \\\n",
       "14994                0.40             0.57               2   \n",
       "14995                0.37             0.48               2   \n",
       "14996                0.37             0.53               2   \n",
       "14997                0.11             0.96               6   \n",
       "14998                0.37             0.52               2   \n",
       "\n",
       "       average_montly_hours  time_spend_company  Work_accident  left  \\\n",
       "14994                   151                   3              0     1   \n",
       "14995                   160                   3              0     1   \n",
       "14996                   143                   3              0     1   \n",
       "14997                   280                   4              0     1   \n",
       "14998                   158                   3              0     1   \n",
       "\n",
       "       promotion_last_5years Department salary  \n",
       "14994                      0    support    low  \n",
       "14995                      0    support    low  \n",
       "14996                      0    support    low  \n",
       "14997                      0    support    low  \n",
       "14998                      0    support    low  "
      ]
     },
     "execution_count": 4,
     "metadata": {},
     "output_type": "execute_result"
    }
   ],
   "source": [
    "# printing last 5 records\n",
    "data.tail()"
   ]
  },
  {
   "cell_type": "code",
   "execution_count": 5,
   "id": "dfbdace4-1b61-43aa-94e6-b8ff5e110348",
   "metadata": {
    "colab": {
     "base_uri": "https://localhost:8080/"
    },
    "executionInfo": {
     "elapsed": 59,
     "status": "ok",
     "timestamp": 1657356902741,
     "user": {
      "displayName": "Omkar Nigade",
      "userId": "08511026517490603050"
     },
     "user_tz": -330
    },
    "id": "dfbdace4-1b61-43aa-94e6-b8ff5e110348",
    "outputId": "f3c7b7fa-f443-4d73-9bdf-81b9fd0d9973"
   },
   "outputs": [
    {
     "data": {
      "text/plain": [
       "149990"
      ]
     },
     "execution_count": 5,
     "metadata": {},
     "output_type": "execute_result"
    }
   ],
   "source": [
    "# checking size of data\n",
    "data.size"
   ]
  },
  {
   "cell_type": "code",
   "execution_count": 6,
   "id": "c03db0c5-35cd-4b33-92be-cb01a96ea70c",
   "metadata": {
    "colab": {
     "base_uri": "https://localhost:8080/"
    },
    "executionInfo": {
     "elapsed": 40,
     "status": "ok",
     "timestamp": 1657356902742,
     "user": {
      "displayName": "Omkar Nigade",
      "userId": "08511026517490603050"
     },
     "user_tz": -330
    },
    "id": "c03db0c5-35cd-4b33-92be-cb01a96ea70c",
    "outputId": "74f9566f-8a2d-4a86-b157-de465cf105ed"
   },
   "outputs": [
    {
     "data": {
      "text/plain": [
       "(14999, 10)"
      ]
     },
     "execution_count": 6,
     "metadata": {},
     "output_type": "execute_result"
    }
   ],
   "source": [
    "# checking shape of data\n",
    "data.shape"
   ]
  },
  {
   "cell_type": "code",
   "execution_count": 7,
   "id": "916e99de-3f8e-49df-afbb-46ecc4d0c1dc",
   "metadata": {
    "colab": {
     "base_uri": "https://localhost:8080/"
    },
    "executionInfo": {
     "elapsed": 36,
     "status": "ok",
     "timestamp": 1657356902742,
     "user": {
      "displayName": "Omkar Nigade",
      "userId": "08511026517490603050"
     },
     "user_tz": -330
    },
    "id": "916e99de-3f8e-49df-afbb-46ecc4d0c1dc",
    "outputId": "886b3512-77f4-49ab-9086-0cd45e69315b"
   },
   "outputs": [
    {
     "name": "stdout",
     "output_type": "stream",
     "text": [
      "<class 'pandas.core.frame.DataFrame'>\n",
      "RangeIndex: 14999 entries, 0 to 14998\n",
      "Data columns (total 10 columns):\n",
      " #   Column                 Non-Null Count  Dtype  \n",
      "---  ------                 --------------  -----  \n",
      " 0   satisfaction_level     14999 non-null  float64\n",
      " 1   last_evaluation        14999 non-null  float64\n",
      " 2   number_project         14999 non-null  int64  \n",
      " 3   average_montly_hours   14999 non-null  int64  \n",
      " 4   time_spend_company     14999 non-null  int64  \n",
      " 5   Work_accident          14999 non-null  int64  \n",
      " 6   left                   14999 non-null  int64  \n",
      " 7   promotion_last_5years  14999 non-null  int64  \n",
      " 8   Department             14999 non-null  object \n",
      " 9   salary                 14999 non-null  object \n",
      "dtypes: float64(2), int64(6), object(2)\n",
      "memory usage: 1.1+ MB\n"
     ]
    }
   ],
   "source": [
    "# checking info\n",
    "data.info()"
   ]
  },
  {
   "cell_type": "code",
   "execution_count": 8,
   "id": "476b4ab4-7ff2-4c27-a814-15bc2c78000e",
   "metadata": {
    "executionInfo": {
     "elapsed": 34,
     "status": "ok",
     "timestamp": 1657356902743,
     "user": {
      "displayName": "Omkar Nigade",
      "userId": "08511026517490603050"
     },
     "user_tz": -330
    },
    "id": "476b4ab4-7ff2-4c27-a814-15bc2c78000e"
   },
   "outputs": [],
   "source": [
    "# from info we can see that there are total 10 columns present in data and total 14999 records(rows) present in data.\n",
    "# from out of 10 columns 6 columns are of integer datatpye, 2 columns are float data type and 2 columns are of object data type."
   ]
  },
  {
   "cell_type": "code",
   "execution_count": 9,
   "id": "32b858c5-8dfa-4bb9-9473-f6cf0c3d68f6",
   "metadata": {
    "colab": {
     "base_uri": "https://localhost:8080/",
     "height": 300
    },
    "executionInfo": {
     "elapsed": 34,
     "status": "ok",
     "timestamp": 1657356902743,
     "user": {
      "displayName": "Omkar Nigade",
      "userId": "08511026517490603050"
     },
     "user_tz": -330
    },
    "id": "32b858c5-8dfa-4bb9-9473-f6cf0c3d68f6",
    "outputId": "4c028d85-5e67-473f-9e26-066e6c55c2b1"
   },
   "outputs": [
    {
     "data": {
      "text/html": [
       "<div>\n",
       "<style scoped>\n",
       "    .dataframe tbody tr th:only-of-type {\n",
       "        vertical-align: middle;\n",
       "    }\n",
       "\n",
       "    .dataframe tbody tr th {\n",
       "        vertical-align: top;\n",
       "    }\n",
       "\n",
       "    .dataframe thead th {\n",
       "        text-align: right;\n",
       "    }\n",
       "</style>\n",
       "<table border=\"1\" class=\"dataframe\">\n",
       "  <thead>\n",
       "    <tr style=\"text-align: right;\">\n",
       "      <th></th>\n",
       "      <th>satisfaction_level</th>\n",
       "      <th>last_evaluation</th>\n",
       "      <th>number_project</th>\n",
       "      <th>average_montly_hours</th>\n",
       "      <th>time_spend_company</th>\n",
       "      <th>Work_accident</th>\n",
       "      <th>left</th>\n",
       "      <th>promotion_last_5years</th>\n",
       "    </tr>\n",
       "  </thead>\n",
       "  <tbody>\n",
       "    <tr>\n",
       "      <th>count</th>\n",
       "      <td>14999.000000</td>\n",
       "      <td>14999.000000</td>\n",
       "      <td>14999.000000</td>\n",
       "      <td>14999.000000</td>\n",
       "      <td>14999.000000</td>\n",
       "      <td>14999.000000</td>\n",
       "      <td>14999.000000</td>\n",
       "      <td>14999.000000</td>\n",
       "    </tr>\n",
       "    <tr>\n",
       "      <th>mean</th>\n",
       "      <td>0.612834</td>\n",
       "      <td>0.716102</td>\n",
       "      <td>3.803054</td>\n",
       "      <td>201.050337</td>\n",
       "      <td>3.498233</td>\n",
       "      <td>0.144610</td>\n",
       "      <td>0.238083</td>\n",
       "      <td>0.021268</td>\n",
       "    </tr>\n",
       "    <tr>\n",
       "      <th>std</th>\n",
       "      <td>0.248631</td>\n",
       "      <td>0.171169</td>\n",
       "      <td>1.232592</td>\n",
       "      <td>49.943099</td>\n",
       "      <td>1.460136</td>\n",
       "      <td>0.351719</td>\n",
       "      <td>0.425924</td>\n",
       "      <td>0.144281</td>\n",
       "    </tr>\n",
       "    <tr>\n",
       "      <th>min</th>\n",
       "      <td>0.090000</td>\n",
       "      <td>0.360000</td>\n",
       "      <td>2.000000</td>\n",
       "      <td>96.000000</td>\n",
       "      <td>2.000000</td>\n",
       "      <td>0.000000</td>\n",
       "      <td>0.000000</td>\n",
       "      <td>0.000000</td>\n",
       "    </tr>\n",
       "    <tr>\n",
       "      <th>25%</th>\n",
       "      <td>0.440000</td>\n",
       "      <td>0.560000</td>\n",
       "      <td>3.000000</td>\n",
       "      <td>156.000000</td>\n",
       "      <td>3.000000</td>\n",
       "      <td>0.000000</td>\n",
       "      <td>0.000000</td>\n",
       "      <td>0.000000</td>\n",
       "    </tr>\n",
       "    <tr>\n",
       "      <th>50%</th>\n",
       "      <td>0.640000</td>\n",
       "      <td>0.720000</td>\n",
       "      <td>4.000000</td>\n",
       "      <td>200.000000</td>\n",
       "      <td>3.000000</td>\n",
       "      <td>0.000000</td>\n",
       "      <td>0.000000</td>\n",
       "      <td>0.000000</td>\n",
       "    </tr>\n",
       "    <tr>\n",
       "      <th>75%</th>\n",
       "      <td>0.820000</td>\n",
       "      <td>0.870000</td>\n",
       "      <td>5.000000</td>\n",
       "      <td>245.000000</td>\n",
       "      <td>4.000000</td>\n",
       "      <td>0.000000</td>\n",
       "      <td>0.000000</td>\n",
       "      <td>0.000000</td>\n",
       "    </tr>\n",
       "    <tr>\n",
       "      <th>max</th>\n",
       "      <td>1.000000</td>\n",
       "      <td>1.000000</td>\n",
       "      <td>7.000000</td>\n",
       "      <td>310.000000</td>\n",
       "      <td>10.000000</td>\n",
       "      <td>1.000000</td>\n",
       "      <td>1.000000</td>\n",
       "      <td>1.000000</td>\n",
       "    </tr>\n",
       "  </tbody>\n",
       "</table>\n",
       "</div>"
      ],
      "text/plain": [
       "       satisfaction_level  last_evaluation  number_project  \\\n",
       "count        14999.000000     14999.000000    14999.000000   \n",
       "mean             0.612834         0.716102        3.803054   \n",
       "std              0.248631         0.171169        1.232592   \n",
       "min              0.090000         0.360000        2.000000   \n",
       "25%              0.440000         0.560000        3.000000   \n",
       "50%              0.640000         0.720000        4.000000   \n",
       "75%              0.820000         0.870000        5.000000   \n",
       "max              1.000000         1.000000        7.000000   \n",
       "\n",
       "       average_montly_hours  time_spend_company  Work_accident          left  \\\n",
       "count          14999.000000        14999.000000   14999.000000  14999.000000   \n",
       "mean             201.050337            3.498233       0.144610      0.238083   \n",
       "std               49.943099            1.460136       0.351719      0.425924   \n",
       "min               96.000000            2.000000       0.000000      0.000000   \n",
       "25%              156.000000            3.000000       0.000000      0.000000   \n",
       "50%              200.000000            3.000000       0.000000      0.000000   \n",
       "75%              245.000000            4.000000       0.000000      0.000000   \n",
       "max              310.000000           10.000000       1.000000      1.000000   \n",
       "\n",
       "       promotion_last_5years  \n",
       "count           14999.000000  \n",
       "mean                0.021268  \n",
       "std                 0.144281  \n",
       "min                 0.000000  \n",
       "25%                 0.000000  \n",
       "50%                 0.000000  \n",
       "75%                 0.000000  \n",
       "max                 1.000000  "
      ]
     },
     "execution_count": 9,
     "metadata": {},
     "output_type": "execute_result"
    }
   ],
   "source": [
    "# statistical measures about the data\n",
    "data.describe()"
   ]
  },
  {
   "cell_type": "code",
   "execution_count": 10,
   "id": "8e2293d7-39d5-428b-b3e3-1f0a3fb4b675",
   "metadata": {
    "executionInfo": {
     "elapsed": 33,
     "status": "ok",
     "timestamp": 1657356902744,
     "user": {
      "displayName": "Omkar Nigade",
      "userId": "08511026517490603050"
     },
     "user_tz": -330
    },
    "id": "8e2293d7-39d5-428b-b3e3-1f0a3fb4b675"
   },
   "outputs": [],
   "source": [
    "# from above description we can see that the mean time spend in company by employees is 3.5(respective units) the max time spend in company by employees is 10.\n",
    "# using mean and std we can conclude that 95% employees spend 0.578 to 6.4182 time in company.\n",
    "\n",
    "# from satisfaction level column we can conclude that the average satisfaction level of employees is 0.612834 \n",
    "\n",
    "# from number_project columnn we conclude that average number of project assign to employee is 3.8 ~ 4.The maximum no. of project assign to employee is 7 and minimum no. of\n",
    "# project assign to employee is 1\n"
   ]
  },
  {
   "cell_type": "code",
   "execution_count": 11,
   "id": "6c9e03ad-cee3-4ea5-b1d6-467f26173828",
   "metadata": {
    "colab": {
     "base_uri": "https://localhost:8080/"
    },
    "executionInfo": {
     "elapsed": 33,
     "status": "ok",
     "timestamp": 1657356902744,
     "user": {
      "displayName": "Omkar Nigade",
      "userId": "08511026517490603050"
     },
     "user_tz": -330
    },
    "id": "6c9e03ad-cee3-4ea5-b1d6-467f26173828",
    "outputId": "dbb97a0f-f30e-4e99-a20c-aa6b8316e9d4"
   },
   "outputs": [
    {
     "data": {
      "text/plain": [
       "3008"
      ]
     },
     "execution_count": 11,
     "metadata": {},
     "output_type": "execute_result"
    }
   ],
   "source": [
    "# checking duplicate values\n",
    "data.duplicated().sum()"
   ]
  },
  {
   "cell_type": "code",
   "execution_count": 12,
   "id": "74857029-a8c5-44f0-9ff4-4f5c239eb3cd",
   "metadata": {
    "executionInfo": {
     "elapsed": 30,
     "status": "ok",
     "timestamp": 1657356902745,
     "user": {
      "displayName": "Omkar Nigade",
      "userId": "08511026517490603050"
     },
     "user_tz": -330
    },
    "id": "74857029-a8c5-44f0-9ff4-4f5c239eb3cd"
   },
   "outputs": [],
   "source": [
    "# here total 3008 duplicates values are present in data...so we will remove them"
   ]
  },
  {
   "cell_type": "code",
   "execution_count": 13,
   "id": "75b624c8-4b4f-45a3-af03-58494d4b8d9b",
   "metadata": {
    "executionInfo": {
     "elapsed": 29,
     "status": "ok",
     "timestamp": 1657356902745,
     "user": {
      "displayName": "Omkar Nigade",
      "userId": "08511026517490603050"
     },
     "user_tz": -330
    },
    "id": "75b624c8-4b4f-45a3-af03-58494d4b8d9b"
   },
   "outputs": [],
   "source": [
    "data.drop_duplicates(subset=None, keep='first', inplace=True, ignore_index=False)"
   ]
  },
  {
   "cell_type": "code",
   "execution_count": 14,
   "id": "8324c434-3dcd-4d1f-8370-ba643a9997c8",
   "metadata": {
    "colab": {
     "base_uri": "https://localhost:8080/"
    },
    "executionInfo": {
     "elapsed": 30,
     "status": "ok",
     "timestamp": 1657356902746,
     "user": {
      "displayName": "Omkar Nigade",
      "userId": "08511026517490603050"
     },
     "user_tz": -330
    },
    "id": "8324c434-3dcd-4d1f-8370-ba643a9997c8",
    "outputId": "cbf0bf7b-bb92-4169-f487-8c2a892e79f5"
   },
   "outputs": [
    {
     "data": {
      "text/plain": [
       "satisfaction_level       0\n",
       "last_evaluation          0\n",
       "number_project           0\n",
       "average_montly_hours     0\n",
       "time_spend_company       0\n",
       "Work_accident            0\n",
       "left                     0\n",
       "promotion_last_5years    0\n",
       "Department               0\n",
       "salary                   0\n",
       "dtype: int64"
      ]
     },
     "execution_count": 14,
     "metadata": {},
     "output_type": "execute_result"
    }
   ],
   "source": [
    "# checking for missing values \n",
    "data.isnull().sum()"
   ]
  },
  {
   "cell_type": "code",
   "execution_count": 15,
   "id": "de0ad5f0-d2e4-4b71-ab25-81a35cf42fec",
   "metadata": {
    "executionInfo": {
     "elapsed": 27,
     "status": "ok",
     "timestamp": 1657356902746,
     "user": {
      "displayName": "Omkar Nigade",
      "userId": "08511026517490603050"
     },
     "user_tz": -330
    },
    "id": "de0ad5f0-d2e4-4b71-ab25-81a35cf42fec"
   },
   "outputs": [],
   "source": [
    "# here no missing value present in data"
   ]
  },
  {
   "cell_type": "code",
   "execution_count": 16,
   "id": "a625f32b-2b82-46c0-afd0-15b9e0e9b391",
   "metadata": {
    "colab": {
     "base_uri": "https://localhost:8080/"
    },
    "executionInfo": {
     "elapsed": 28,
     "status": "ok",
     "timestamp": 1657356902747,
     "user": {
      "displayName": "Omkar Nigade",
      "userId": "08511026517490603050"
     },
     "user_tz": -330
    },
    "id": "a625f32b-2b82-46c0-afd0-15b9e0e9b391",
    "outputId": "b60b0808-c69c-4a5c-a92c-f8346e1a75d0"
   },
   "outputs": [
    {
     "data": {
      "text/plain": [
       "0    10000\n",
       "1     1991\n",
       "Name: left, dtype: int64"
      ]
     },
     "execution_count": 16,
     "metadata": {},
     "output_type": "execute_result"
    }
   ],
   "source": [
    "# checking the left Variable\n",
    "data['left'].value_counts()"
   ]
  },
  {
   "cell_type": "code",
   "execution_count": 17,
   "id": "61577b97-67be-4176-a9dd-f3d76179dd1c",
   "metadata": {
    "executionInfo": {
     "elapsed": 25,
     "status": "ok",
     "timestamp": 1657356902747,
     "user": {
      "displayName": "Omkar Nigade",
      "userId": "08511026517490603050"
     },
     "user_tz": -330
    },
    "id": "61577b97-67be-4176-a9dd-f3d76179dd1c"
   },
   "outputs": [],
   "source": [
    "# here we can see that only 1991 employees left or leave the job"
   ]
  },
  {
   "cell_type": "code",
   "execution_count": 18,
   "id": "518bbaf9-3049-4c70-8d15-33852a33cec7",
   "metadata": {
    "colab": {
     "base_uri": "https://localhost:8080/",
     "height": 296
    },
    "executionInfo": {
     "elapsed": 1360,
     "status": "ok",
     "timestamp": 1657356904085,
     "user": {
      "displayName": "Omkar Nigade",
      "userId": "08511026517490603050"
     },
     "user_tz": -330
    },
    "id": "518bbaf9-3049-4c70-8d15-33852a33cec7",
    "outputId": "dc43f573-9a19-49eb-e15a-6890b096c202"
   },
   "outputs": [
    {
     "data": {
      "text/plain": [
       "<AxesSubplot:xlabel='left', ylabel='count'>"
      ]
     },
     "execution_count": 18,
     "metadata": {},
     "output_type": "execute_result"
    },
    {
     "data": {
      "image/png": "[encoded data removed]",
      "text/plain": [
       "<Figure size 640x480 with 1 Axes>"
      ]
     },
     "metadata": {},
     "output_type": "display_data"
    }
   ],
   "source": [
    "# ploting job left data\n",
    "sns.countplot(x=\"left\",data=data,palette=\"hls\")"
   ]
  },
  {
   "cell_type": "code",
   "execution_count": 19,
   "id": "824ad510-da16-4cbf-b5e4-b6db96b825d7",
   "metadata": {
    "colab": {
     "base_uri": "https://localhost:8080/"
    },
    "executionInfo": {
     "elapsed": 42,
     "status": "ok",
     "timestamp": 1657356904085,
     "user": {
      "displayName": "Omkar Nigade",
      "userId": "08511026517490603050"
     },
     "user_tz": -330
    },
    "id": "824ad510-da16-4cbf-b5e4-b6db96b825d7",
    "outputId": "472fc653-a25b-43f0-ee07-4794a8537a7c"
   },
   "outputs": [
    {
     "data": {
      "text/plain": [
       "low       5740\n",
       "medium    5261\n",
       "high       990\n",
       "Name: salary, dtype: int64"
      ]
     },
     "execution_count": 19,
     "metadata": {},
     "output_type": "execute_result"
    }
   ],
   "source": [
    "data['salary'].value_counts()"
   ]
  },
  {
   "cell_type": "code",
   "execution_count": 20,
   "id": "2718d120-1909-4142-a87a-8ed340dbcc79",
   "metadata": {
    "executionInfo": {
     "elapsed": 26,
     "status": "ok",
     "timestamp": 1657356904086,
     "user": {
      "displayName": "Omkar Nigade",
      "userId": "08511026517490603050"
     },
     "user_tz": -330
    },
    "id": "2718d120-1909-4142-a87a-8ed340dbcc79"
   },
   "outputs": [],
   "source": [
    "# here there are 3 categories in Salary section 1) low 2) Medium 3) High"
   ]
  },
  {
   "cell_type": "code",
   "execution_count": 21,
   "id": "4758bb7c-9bf3-43c1-9b4b-60115b1fe52b",
   "metadata": {
    "colab": {
     "base_uri": "https://localhost:8080/",
     "height": 296
    },
    "executionInfo": {
     "elapsed": 25,
     "status": "ok",
     "timestamp": 1657356904086,
     "user": {
      "displayName": "Omkar Nigade",
      "userId": "08511026517490603050"
     },
     "user_tz": -330
    },
    "id": "4758bb7c-9bf3-43c1-9b4b-60115b1fe52b",
    "outputId": "6c6c9795-81cd-4da8-9a0e-5fdb0945ded6"
   },
   "outputs": [
    {
     "data": {
      "text/plain": [
       "<AxesSubplot:xlabel='salary', ylabel='count'>"
      ]
     },
     "execution_count": 21,
     "metadata": {},
     "output_type": "execute_result"
    },
    {
     "data": {
      "image/png": "[encoded data removed]",
      "text/plain": [
       "<Figure size 640x480 with 1 Axes>"
      ]
     },
     "metadata": {},
     "output_type": "display_data"
    }
   ],
   "source": [
    "sns.countplot(x='salary', hue='left',data=data)"
   ]
  },
  {
   "cell_type": "code",
   "execution_count": 22,
   "id": "8118f4ef-5b85-439b-b845-4f8b8534fa05",
   "metadata": {
    "executionInfo": {
     "elapsed": 22,
     "status": "ok",
     "timestamp": 1657356904089,
     "user": {
      "displayName": "Omkar Nigade",
      "userId": "08511026517490603050"
     },
     "user_tz": -330
    },
    "id": "8118f4ef-5b85-439b-b845-4f8b8534fa05"
   },
   "outputs": [],
   "source": [
    "# from above graph we can see that Highest Number of employees who leave the job are from low salary category follow by medium  salary category and lowest nnumber of employees from high salary category."
   ]
  },
  {
   "cell_type": "code",
   "execution_count": 23,
   "id": "a523ac02-bb94-4efa-a6d1-6d3737b7d1c0",
   "metadata": {
    "colab": {
     "base_uri": "https://localhost:8080/"
    },
    "executionInfo": {
     "elapsed": 21,
     "status": "ok",
     "timestamp": 1657356904089,
     "user": {
      "displayName": "Omkar Nigade",
      "userId": "08511026517490603050"
     },
     "user_tz": -330
    },
    "id": "a523ac02-bb94-4efa-a6d1-6d3737b7d1c0",
    "outputId": "d4b34f6f-52a7-4781-a458-acc4c80cabce"
   },
   "outputs": [
    {
     "data": {
      "text/plain": [
       "sales          3239\n",
       "technical      2244\n",
       "support        1821\n",
       "IT              976\n",
       "RandD           694\n",
       "product_mng     686\n",
       "marketing       673\n",
       "accounting      621\n",
       "hr              601\n",
       "management      436\n",
       "Name: Department, dtype: int64"
      ]
     },
     "execution_count": 23,
     "metadata": {},
     "output_type": "execute_result"
    }
   ],
   "source": [
    "# checking count of department\n",
    "data['Department'].value_counts()"
   ]
  },
  {
   "cell_type": "code",
   "execution_count": 24,
   "id": "8e600378-c0ca-49c3-a9aa-5c03a080d734",
   "metadata": {
    "colab": {
     "base_uri": "https://localhost:8080/",
     "height": 303
    },
    "executionInfo": {
     "elapsed": 18,
     "status": "ok",
     "timestamp": 1657356904090,
     "user": {
      "displayName": "Omkar Nigade",
      "userId": "08511026517490603050"
     },
     "user_tz": -330
    },
    "id": "8e600378-c0ca-49c3-a9aa-5c03a080d734",
    "outputId": "febc3e44-8168-452a-9571-bc5e0fcbadb9"
   },
   "outputs": [
    {
     "data": {
      "image/png": "[encoded data removed]",
      "text/plain": [
       "<Figure size 1200x500 with 1 Axes>"
      ]
     },
     "metadata": {},
     "output_type": "display_data"
    }
   ],
   "source": [
    "plt.figure(figsize=(12,5))\n",
    "plt.pie(data['Department'].value_counts(),\n",
    "        labels=data['Department'].value_counts().index);"
   ]
  },
  {
   "cell_type": "code",
   "execution_count": 25,
   "id": "d04c9a4b-03b9-4632-aa46-b3b2b98464e2",
   "metadata": {
    "colab": {
     "base_uri": "https://localhost:8080/",
     "height": 373
    },
    "executionInfo": {
     "elapsed": 2076,
     "status": "ok",
     "timestamp": 1657356906149,
     "user": {
      "displayName": "Omkar Nigade",
      "userId": "08511026517490603050"
     },
     "user_tz": -330
    },
    "id": "d04c9a4b-03b9-4632-aa46-b3b2b98464e2",
    "outputId": "65a4a781-b625-4f88-ccca-3e6694a664bd"
   },
   "outputs": [
    {
     "data": {
      "text/plain": [
       "Text(0.5, 1.0, 'No: of Employees vs  Department')"
      ]
     },
     "execution_count": 25,
     "metadata": {},
     "output_type": "execute_result"
    },
    {
     "data": {
      "image/png": "[encoded data removed]",
      "text/plain": [
       "<Figure size 1200x500 with 1 Axes>"
      ]
     },
     "metadata": {},
     "output_type": "display_data"
    }
   ],
   "source": [
    "plt.figure(figsize=(12,5))\n",
    "sns.countplot(x=data['Department'],order=data['Department'].value_counts().index.sort_values(),palette='CMRmap')\n",
    "plt.xlabel('Dpartment',fontsize=12)\n",
    "plt.ylabel('No: of Employees',fontsize=12)\n",
    "plt.title('No: of Employees vs  Department',fontsize=16)"
   ]
  },
  {
   "cell_type": "code",
   "execution_count": 26,
   "id": "d046e72a-2e5e-4f57-9d99-9b69076f7111",
   "metadata": {
    "executionInfo": {
     "elapsed": 80,
     "status": "ok",
     "timestamp": 1657356906150,
     "user": {
      "displayName": "Omkar Nigade",
      "userId": "08511026517490603050"
     },
     "user_tz": -330
    },
    "id": "d046e72a-2e5e-4f57-9d99-9b69076f7111"
   },
   "outputs": [],
   "source": [
    "# from above pie chart we can see that there are highest number of employees in Sales , Technical and Support department\n",
    "# and lowest in Management and HR department."
   ]
  },
  {
   "cell_type": "code",
   "execution_count": 27,
   "id": "601aa422-836a-4a28-9310-a68b651d6fdd",
   "metadata": {
    "colab": {
     "base_uri": "https://localhost:8080/",
     "height": 296
    },
    "executionInfo": {
     "elapsed": 80,
     "status": "ok",
     "timestamp": 1657356906151,
     "user": {
      "displayName": "Omkar Nigade",
      "userId": "08511026517490603050"
     },
     "user_tz": -330
    },
    "id": "601aa422-836a-4a28-9310-a68b651d6fdd",
    "outputId": "918495e8-31b6-4789-8e43-dd6170778baf"
   },
   "outputs": [
    {
     "data": {
      "text/plain": [
       "<AxesSubplot:xlabel='left', ylabel='count'>"
      ]
     },
     "execution_count": 27,
     "metadata": {},
     "output_type": "execute_result"
    },
    {
     "data": {
      "image/png": "[encoded data removed]",
      "text/plain": [
       "<Figure size 640x480 with 1 Axes>"
      ]
     },
     "metadata": {},
     "output_type": "display_data"
    }
   ],
   "source": [
    "sns.countplot(x='left', hue='Department',data=data)"
   ]
  },
  {
   "cell_type": "code",
   "execution_count": 28,
   "id": "dcf58e75-26ef-4a17-ab67-004a5a5bf2b2",
   "metadata": {
    "executionInfo": {
     "elapsed": 62,
     "status": "ok",
     "timestamp": 1657356906151,
     "user": {
      "displayName": "Omkar Nigade",
      "userId": "08511026517490603050"
     },
     "user_tz": -330
    },
    "id": "dcf58e75-26ef-4a17-ab67-004a5a5bf2b2"
   },
   "outputs": [],
   "source": [
    "# from above plot we can see that highest number of employees who left the  job are from Sales Department and lowest number of employees who left the job from management department"
   ]
  },
  {
   "cell_type": "code",
   "execution_count": 29,
   "id": "e9c399a6-73e7-4025-ab71-f6f2b0d463e1",
   "metadata": {
    "colab": {
     "base_uri": "https://localhost:8080/"
    },
    "executionInfo": {
     "elapsed": 61,
     "status": "ok",
     "timestamp": 1657356906152,
     "user": {
      "displayName": "Omkar Nigade",
      "userId": "08511026517490603050"
     },
     "user_tz": -330
    },
    "id": "e9c399a6-73e7-4025-ab71-f6f2b0d463e1",
    "outputId": "a20e6375-01b2-42cb-a438-2c70fe539112"
   },
   "outputs": [
    {
     "data": {
      "text/plain": [
       "0    10141\n",
       "1     1850\n",
       "Name: Work_accident, dtype: int64"
      ]
     },
     "execution_count": 29,
     "metadata": {},
     "output_type": "execute_result"
    }
   ],
   "source": [
    "data['Work_accident'].value_counts()"
   ]
  },
  {
   "cell_type": "code",
   "execution_count": 30,
   "id": "373ae24d-b2f3-40f2-ab8f-d0788905e7f9",
   "metadata": {
    "colab": {
     "base_uri": "https://localhost:8080/",
     "height": 296
    },
    "executionInfo": {
     "elapsed": 53,
     "status": "ok",
     "timestamp": 1657356906153,
     "user": {
      "displayName": "Omkar Nigade",
      "userId": "08511026517490603050"
     },
     "user_tz": -330
    },
    "id": "373ae24d-b2f3-40f2-ab8f-d0788905e7f9",
    "outputId": "a3989ca9-7c98-44eb-837c-fa040af4b56e"
   },
   "outputs": [
    {
     "data": {
      "text/plain": [
       "<AxesSubplot:xlabel='left', ylabel='count'>"
      ]
     },
     "execution_count": 30,
     "metadata": {},
     "output_type": "execute_result"
    },
    {
     "data": {
      "image/png": "[encoded data removed]",
      "text/plain": [
       "<Figure size 640x480 with 1 Axes>"
      ]
     },
     "metadata": {},
     "output_type": "display_data"
    }
   ],
   "source": [
    "sns.countplot(x='left', hue='Work_accident',data=data)"
   ]
  },
  {
   "cell_type": "code",
   "execution_count": 31,
   "id": "Ijjq6CqW5rYC",
   "metadata": {
    "executionInfo": {
     "elapsed": 42,
     "status": "ok",
     "timestamp": 1657356906153,
     "user": {
      "displayName": "Omkar Nigade",
      "userId": "08511026517490603050"
     },
     "user_tz": -330
    },
    "id": "Ijjq6CqW5rYC"
   },
   "outputs": [],
   "source": [
    "# here only few employees who have work_accident are left the job"
   ]
  },
  {
   "cell_type": "code",
   "execution_count": 32,
   "id": "f4078b18-e702-4468-9bf3-3c31ff10bc99",
   "metadata": {
    "colab": {
     "base_uri": "https://localhost:8080/",
     "height": 297
    },
    "executionInfo": {
     "elapsed": 42,
     "status": "ok",
     "timestamp": 1657356906154,
     "user": {
      "displayName": "Omkar Nigade",
      "userId": "08511026517490603050"
     },
     "user_tz": -330
    },
    "id": "f4078b18-e702-4468-9bf3-3c31ff10bc99",
    "outputId": "6116f2cd-a5c9-469d-c006-a2b4b9ef6746"
   },
   "outputs": [
    {
     "data": {
      "text/plain": [
       "<AxesSubplot:xlabel='Work_accident', ylabel='count'>"
      ]
     },
     "execution_count": 32,
     "metadata": {},
     "output_type": "execute_result"
    },
    {
     "data": {
      "image/png": "[encoded data removed]",
      "text/plain": [
       "<Figure size 640x480 with 1 Axes>"
      ]
     },
     "metadata": {},
     "output_type": "display_data"
    }
   ],
   "source": [
    "sns.countplot(x='Work_accident', hue='Department',data=data)"
   ]
  },
  {
   "cell_type": "code",
   "execution_count": 33,
   "id": "pDiLppfC548e",
   "metadata": {
    "executionInfo": {
     "elapsed": 32,
     "status": "ok",
     "timestamp": 1657356906155,
     "user": {
      "displayName": "Omkar Nigade",
      "userId": "08511026517490603050"
     },
     "user_tz": -330
    },
    "id": "pDiLppfC548e"
   },
   "outputs": [],
   "source": [
    "# In sales department their are highest number of people have work accident and below that technical department "
   ]
  },
  {
   "cell_type": "code",
   "execution_count": 34,
   "id": "3942c6a3-6429-45b3-a809-1e784538ad7f",
   "metadata": {
    "colab": {
     "base_uri": "https://localhost:8080/"
    },
    "executionInfo": {
     "elapsed": 31,
     "status": "ok",
     "timestamp": 1657356906155,
     "user": {
      "displayName": "Omkar Nigade",
      "userId": "08511026517490603050"
     },
     "user_tz": -330
    },
    "id": "3942c6a3-6429-45b3-a809-1e784538ad7f",
    "outputId": "7c7edf3f-fc1e-4f2c-c53a-b85271927a9f"
   },
   "outputs": [
    {
     "data": {
      "text/plain": [
       "3     5190\n",
       "2     2910\n",
       "4     2005\n",
       "5     1062\n",
       "6      542\n",
       "10     107\n",
       "7       94\n",
       "8       81\n",
       "Name: time_spend_company, dtype: int64"
      ]
     },
     "execution_count": 34,
     "metadata": {},
     "output_type": "execute_result"
    }
   ],
   "source": [
    "data['time_spend_company'].value_counts()"
   ]
  },
  {
   "cell_type": "code",
   "execution_count": 35,
   "id": "f87b6e60-2b56-4a82-8535-d57597618c8a",
   "metadata": {
    "colab": {
     "base_uri": "https://localhost:8080/",
     "height": 296
    },
    "executionInfo": {
     "elapsed": 3685,
     "status": "ok",
     "timestamp": 1657356909816,
     "user": {
      "displayName": "Omkar Nigade",
      "userId": "08511026517490603050"
     },
     "user_tz": -330
    },
    "id": "f87b6e60-2b56-4a82-8535-d57597618c8a",
    "outputId": "56339bed-6f0b-457e-e207-ad8d4ed3b4f5"
   },
   "outputs": [
    {
     "data": {
      "text/plain": [
       "<AxesSubplot:xlabel='left', ylabel='count'>"
      ]
     },
     "execution_count": 35,
     "metadata": {},
     "output_type": "execute_result"
    },
    {
     "data": {
      "image/png": "[encoded data removed]",
      "text/plain": [
       "<Figure size 640x480 with 1 Axes>"
      ]
     },
     "metadata": {},
     "output_type": "display_data"
    }
   ],
   "source": [
    "sns.countplot(x='left', hue='time_spend_company',data=data,palette=\"hls\")"
   ]
  },
  {
   "cell_type": "code",
   "execution_count": 36,
   "id": "7e0edf16-fb42-44d9-9efa-f3d81bf26960",
   "metadata": {
    "colab": {
     "base_uri": "https://localhost:8080/",
     "height": 296
    },
    "executionInfo": {
     "elapsed": 62,
     "status": "ok",
     "timestamp": 1657356909817,
     "user": {
      "displayName": "Omkar Nigade",
      "userId": "08511026517490603050"
     },
     "user_tz": -330
    },
    "id": "7e0edf16-fb42-44d9-9efa-f3d81bf26960",
    "outputId": "31571ad7-3e98-41ef-be8e-6f38be53a840"
   },
   "outputs": [
    {
     "data": {
      "text/plain": [
       "<AxesSubplot:xlabel='left', ylabel='count'>"
      ]
     },
     "execution_count": 36,
     "metadata": {},
     "output_type": "execute_result"
    },
    {
     "data": {
      "image/png": "[encoded data removed]",
      "text/plain": [
       "<Figure size 640x480 with 1 Axes>"
      ]
     },
     "metadata": {},
     "output_type": "display_data"
    }
   ],
   "source": [
    "sns.countplot(x='left', hue='promotion_last_5years',data=data)"
   ]
  },
  {
   "cell_type": "code",
   "execution_count": 37,
   "id": "5506870a-6c46-4126-b975-098583760c3a",
   "metadata": {
    "executionInfo": {
     "elapsed": 46,
     "status": "ok",
     "timestamp": 1657356909817,
     "user": {
      "displayName": "Omkar Nigade",
      "userId": "08511026517490603050"
     },
     "user_tz": -330
    },
    "id": "5506870a-6c46-4126-b975-098583760c3a"
   },
   "outputs": [],
   "source": [
    "# No one employee left the job who got promotion in last 5 years\n"
   ]
  },
  {
   "cell_type": "code",
   "execution_count": null,
   "id": "3T3rCEObN-Hz",
   "metadata": {
    "executionInfo": {
     "elapsed": 45,
     "status": "ok",
     "timestamp": 1657356909818,
     "user": {
      "displayName": "Omkar Nigade",
      "userId": "08511026517490603050"
     },
     "user_tz": -330
    },
    "id": "3T3rCEObN-Hz"
   },
   "outputs": [],
   "source": []
  },
  {
   "cell_type": "code",
   "execution_count": 38,
   "id": "WK0k4LUxN_Oo",
   "metadata": {
    "executionInfo": {
     "elapsed": 45,
     "status": "ok",
     "timestamp": 1657356909819,
     "user": {
      "displayName": "Omkar Nigade",
      "userId": "08511026517490603050"
     },
     "user_tz": -330
    },
    "id": "WK0k4LUxN_Oo"
   },
   "outputs": [],
   "source": [
    "# selecting independent variable\n",
    "X = data.drop(['left'],axis=1)\n",
    "# Selecting dependant variable\n",
    "y = data['left']"
   ]
  },
  {
   "cell_type": "code",
   "execution_count": 39,
   "id": "8ae41cc9-65e6-46c1-8b5b-1ec901bbe9d6",
   "metadata": {
    "colab": {
     "base_uri": "https://localhost:8080/"
    },
    "executionInfo": {
     "elapsed": 44,
     "status": "ok",
     "timestamp": 1657356909819,
     "user": {
      "displayName": "Omkar Nigade",
      "userId": "08511026517490603050"
     },
     "user_tz": -330
    },
    "id": "8ae41cc9-65e6-46c1-8b5b-1ec901bbe9d6",
    "outputId": "394401ef-3d61-4b3c-ce31-28dd29eaf345"
   },
   "outputs": [
    {
     "data": {
      "text/plain": [
       "array([[ 7.  ,  1.  ,  0.38, ...,  3.  ,  0.  ,  0.  ],\n",
       "       [ 7.  ,  2.  ,  0.8 , ...,  6.  ,  0.  ,  0.  ],\n",
       "       [ 7.  ,  2.  ,  0.11, ...,  4.  ,  0.  ,  0.  ],\n",
       "       ...,\n",
       "       [ 4.  ,  0.  ,  0.85, ..., 10.  ,  0.  ,  1.  ],\n",
       "       [ 5.  ,  0.  ,  0.33, ..., 10.  ,  0.  ,  1.  ],\n",
       "       [ 0.  ,  1.  ,  0.5 , ...,  3.  ,  0.  ,  0.  ]])"
      ]
     },
     "execution_count": 39,
     "metadata": {},
     "output_type": "execute_result"
    }
   ],
   "source": [
    "# encoding object/ categorical values \n",
    "from sklearn.preprocessing import OrdinalEncoder\n",
    "from sklearn.compose import ColumnTransformer\n",
    "ct = ColumnTransformer(transformers=[('encoder', OrdinalEncoder(),['Department','salary'])],remainder='passthrough')\n",
    "X=ct.fit_transform(X)\n",
    "X"
   ]
  },
  {
   "cell_type": "code",
   "execution_count": 40,
   "id": "ybUcE5TzKXMx",
   "metadata": {
    "colab": {
     "base_uri": "https://localhost:8080/",
     "height": 607
    },
    "executionInfo": {
     "elapsed": 37,
     "status": "ok",
     "timestamp": 1657356909820,
     "user": {
      "displayName": "Omkar Nigade",
      "userId": "08511026517490603050"
     },
     "user_tz": -330
    },
    "id": "ybUcE5TzKXMx",
    "outputId": "39aac74e-55c7-449b-ae7f-af245446a459"
   },
   "outputs": [
    {
     "data": {
      "text/plain": [
       "<AxesSubplot:>"
      ]
     },
     "execution_count": 40,
     "metadata": {},
     "output_type": "execute_result"
    },
    {
     "data": {
      "image/png": "[encoded data removed]",
      "text/plain": [
       "<Figure size 1200x800 with 2 Axes>"
      ]
     },
     "metadata": {},
     "output_type": "display_data"
    }
   ],
   "source": [
    "plt.figure(figsize=(12,8))\n",
    "sns.heatmap(data.corr(),fmt='.2g',annot=True,)"
   ]
  },
  {
   "cell_type": "code",
   "execution_count": 41,
   "id": "GJ_23NvnHN3G",
   "metadata": {
    "colab": {
     "base_uri": "https://localhost:8080/",
     "height": 313
    },
    "executionInfo": {
     "elapsed": 36076,
     "status": "ok",
     "timestamp": 1657357779875,
     "user": {
      "displayName": "Omkar Nigade",
      "userId": "08511026517490603050"
     },
     "user_tz": -330
    },
    "id": "GJ_23NvnHN3G",
    "outputId": "c663b43a-6b6a-4efd-c3ec-2d7613150df0"
   },
   "outputs": [
    {
     "data": {
      "text/plain": [
       "Text(0.5, 1.0, ' satisfaction_level Log Odds Linear Plot')"
      ]
     },
     "execution_count": 41,
     "metadata": {},
     "output_type": "execute_result"
    },
    {
     "data": {
      "image/png": "[encoded data removed]",
      "text/plain": [
       "<Figure size 640x480 with 1 Axes>"
      ]
     },
     "metadata": {},
     "output_type": "display_data"
    }
   ],
   "source": [
    "# Needed to run the logistic regression\n",
    "import statsmodels.formula.api as smf\n",
    "\n",
    "# For plotting/checking assumptions\n",
    "import seaborn as sns\n",
    "\n",
    "satisfaction_level = sns.regplot(x= data['satisfaction_level'], y=data['left'], data= data, logistic= True).set_title(\" satisfaction_level Log Odds Linear Plot\")\n",
    "satisfaction_level\n",
    "\n"
   ]
  },
  {
   "cell_type": "code",
   "execution_count": 42,
   "id": "51POzYu3HN58",
   "metadata": {
    "colab": {
     "base_uri": "https://localhost:8080/",
     "height": 313
    },
    "executionInfo": {
     "elapsed": 43602,
     "status": "ok",
     "timestamp": 1657357823461,
     "user": {
      "displayName": "Omkar Nigade",
      "userId": "08511026517490603050"
     },
     "user_tz": -330
    },
    "id": "51POzYu3HN58",
    "outputId": "26f5060c-8255-4e89-caf5-039d536d25a8"
   },
   "outputs": [
    {
     "data": {
      "text/plain": [
       "Text(0.5, 1.0, 'Work_accident Log Odds Linear Plot')"
      ]
     },
     "execution_count": 42,
     "metadata": {},
     "output_type": "execute_result"
    },
    {
     "data": {
      "image/png": "[encoded data removed]",
      "text/plain": [
       "<Figure size 640x480 with 1 Axes>"
      ]
     },
     "metadata": {},
     "output_type": "display_data"
    }
   ],
   "source": [
    "Work_accident = sns.regplot(data['Work_accident'], y=data['left'], data= data, logistic= True).set_title(\"Work_accident Log Odds Linear Plot\")\n",
    "Work_accident"
   ]
  },
  {
   "cell_type": "code",
   "execution_count": 43,
   "id": "QvtyFmrwOPrS",
   "metadata": {
    "colab": {
     "base_uri": "https://localhost:8080/",
     "height": 299
    },
    "executionInfo": {
     "elapsed": 695,
     "status": "ok",
     "timestamp": 1657357949057,
     "user": {
      "displayName": "Omkar Nigade",
      "userId": "08511026517490603050"
     },
     "user_tz": -330
    },
    "id": "QvtyFmrwOPrS",
    "outputId": "ae4873ca-7883-46d5-efaf-9b74b22f0272"
   },
   "outputs": [
    {
     "data": {
      "text/plain": [
       "Text(0.5, 1.0, ' Box Plot')"
      ]
     },
     "execution_count": 43,
     "metadata": {},
     "output_type": "execute_result"
    },
    {
     "data": {
      "image/png": "[encoded data removed]",
      "text/plain": [
       "<Figure size 640x480 with 1 Axes>"
      ]
     },
     "metadata": {},
     "output_type": "display_data"
    }
   ],
   "source": [
    "sns.boxplot(data= data[['satisfaction_level', 'time_spend_company']]).set_title(\" Box Plot\")\n"
   ]
  },
  {
   "cell_type": "code",
   "execution_count": 44,
   "id": "ca85209c-bcb9-45a5-a570-81300829a488",
   "metadata": {
    "executionInfo": {
     "elapsed": 78,
     "status": "ok",
     "timestamp": 1657356989614,
     "user": {
      "displayName": "Omkar Nigade",
      "userId": "08511026517490603050"
     },
     "user_tz": -330
    },
    "id": "ca85209c-bcb9-45a5-a570-81300829a488"
   },
   "outputs": [],
   "source": [
    "# importing neccesary libraries to split data into train test\n",
    "from sklearn.model_selection import train_test_split\n",
    "# Spliting Data into train data and test data \n",
    "X_train,X_test,y_train,y_test = train_test_split(X,y,random_state=1,test_size=0.2)"
   ]
  },
  {
   "cell_type": "code",
   "execution_count": 45,
   "id": "d4ef9d37-80b5-4e25-9dc9-e44521bb266b",
   "metadata": {
    "executionInfo": {
     "elapsed": 75,
     "status": "ok",
     "timestamp": 1657356989614,
     "user": {
      "displayName": "Omkar Nigade",
      "userId": "08511026517490603050"
     },
     "user_tz": -330
    },
    "id": "d4ef9d37-80b5-4e25-9dc9-e44521bb266b"
   },
   "outputs": [],
   "source": [
    "# building model on train data\n",
    "from sklearn.linear_model import LogisticRegression\n",
    "lr = LogisticRegression()\n",
    "# fit a model\n",
    "lr.fit(X_train,y_train)\n",
    "# predicting values using test data\n",
    "y_pred=lr.predict(X_test)"
   ]
  },
  {
   "cell_type": "code",
   "execution_count": 46,
   "id": "fmq4VoZK9IxC",
   "metadata": {
    "colab": {
     "base_uri": "https://localhost:8080/"
    },
    "executionInfo": {
     "elapsed": 74,
     "status": "ok",
     "timestamp": 1657356989615,
     "user": {
      "displayName": "Omkar Nigade",
      "userId": "08511026517490603050"
     },
     "user_tz": -330
    },
    "id": "fmq4VoZK9IxC",
    "outputId": "f8300208-d378-4b93-e0c0-67ee51eaa540"
   },
   "outputs": [
    {
     "name": "stdout",
     "output_type": "stream",
     "text": [
      "0.8328815679733111\n"
     ]
    }
   ],
   "source": [
    "# accuracy of train data\n",
    "print(lr.score(X_train,y_train))"
   ]
  },
  {
   "cell_type": "code",
   "execution_count": 47,
   "id": "Y-T5e86975h5",
   "metadata": {
    "colab": {
     "base_uri": "https://localhost:8080/"
    },
    "executionInfo": {
     "elapsed": 64,
     "status": "ok",
     "timestamp": 1657356989615,
     "user": {
      "displayName": "Omkar Nigade",
      "userId": "08511026517490603050"
     },
     "user_tz": -330
    },
    "id": "Y-T5e86975h5",
    "outputId": "ff025050-1354-421e-b646-b56f4e01cb8e"
   },
   "outputs": [
    {
     "name": "stdout",
     "output_type": "stream",
     "text": [
      "0.8257607336390163\n"
     ]
    }
   ],
   "source": [
    "# accuracy of test data\n",
    "print(lr.score(X_test,y_test))"
   ]
  },
  {
   "cell_type": "code",
   "execution_count": 48,
   "id": "1ea96fed-cebd-4796-99a3-8a1b95857b34",
   "metadata": {
    "colab": {
     "base_uri": "https://localhost:8080/"
    },
    "executionInfo": {
     "elapsed": 53,
     "status": "ok",
     "timestamp": 1657356989615,
     "user": {
      "displayName": "Omkar Nigade",
      "userId": "08511026517490603050"
     },
     "user_tz": -330
    },
    "id": "1ea96fed-cebd-4796-99a3-8a1b95857b34",
    "outputId": "0f28d9f6-be2a-489f-c977-ca9f14e3081d"
   },
   "outputs": [
    {
     "name": "stdout",
     "output_type": "stream",
     "text": [
      "              precision    recall  f1-score   support\n",
      "\n",
      "           0       0.85      0.96      0.90      1985\n",
      "           1       0.49      0.19      0.27       414\n",
      "\n",
      "    accuracy                           0.83      2399\n",
      "   macro avg       0.67      0.57      0.59      2399\n",
      "weighted avg       0.79      0.83      0.79      2399\n",
      "\n"
     ]
    }
   ],
   "source": [
    "# calculating performance measure\n",
    "from sklearn.metrics import classification_report,roc_curve, confusion_matrix\n",
    "print(classification_report(y_test,y_pred))"
   ]
  },
  {
   "cell_type": "code",
   "execution_count": 49,
   "id": "Rp8gOVKyXatX",
   "metadata": {
    "colab": {
     "base_uri": "https://localhost:8080/"
    },
    "executionInfo": {
     "elapsed": 47,
     "status": "ok",
     "timestamp": 1657356989616,
     "user": {
      "displayName": "Omkar Nigade",
      "userId": "08511026517490603050"
     },
     "user_tz": -330
    },
    "id": "Rp8gOVKyXatX",
    "outputId": "83e28897-c552-4750-8830-64ce6099cefe"
   },
   "outputs": [
    {
     "name": "stdout",
     "output_type": "stream",
     "text": [
      "[[1904   81]\n",
      " [ 337   77]]\n"
     ]
    }
   ],
   "source": [
    "# printing Confusion matrix\n",
    "print(confusion_matrix(y_test,y_pred))"
   ]
  },
  {
   "cell_type": "code",
   "execution_count": 50,
   "id": "yXBqNdYCQYQB",
   "metadata": {
    "executionInfo": {
     "elapsed": 40,
     "status": "ok",
     "timestamp": 1657356989616,
     "user": {
      "displayName": "Omkar Nigade",
      "userId": "08511026517490603050"
     },
     "user_tz": -330
    },
    "id": "yXBqNdYCQYQB"
   },
   "outputs": [],
   "source": [
    "# here our train accuracy is 83.19% and test accuracy is 0.8245% but there is problem in recall 0.18 and f1 score 0.26\n",
    "# because of our data is imbalance recall and f1 score is low \n",
    "# so we can't say our model is best fit. \n",
    "# we can hypertune our model to get more accuracy and more accurate predict."
   ]
  },
  {
   "cell_type": "code",
   "execution_count": 51,
   "id": "RbY88x0YANn2",
   "metadata": {
    "executionInfo": {
     "elapsed": 40,
     "status": "ok",
     "timestamp": 1657356989617,
     "user": {
      "displayName": "Omkar Nigade",
      "userId": "08511026517490603050"
     },
     "user_tz": -330
    },
    "id": "RbY88x0YANn2"
   },
   "outputs": [],
   "source": [
    "# from above model we can't predict accuratly."
   ]
  },
  {
   "cell_type": "code",
   "execution_count": null,
   "id": "sa5BwfBkFFud",
   "metadata": {
    "executionInfo": {
     "elapsed": 40,
     "status": "ok",
     "timestamp": 1657356989617,
     "user": {
      "displayName": "Omkar Nigade",
      "userId": "08511026517490603050"
     },
     "user_tz": -330
    },
    "id": "sa5BwfBkFFud"
   },
   "outputs": [],
   "source": []
  },
  {
   "cell_type": "code",
   "execution_count": 52,
   "id": "XjrLDPtdPORD",
   "metadata": {
    "executionInfo": {
     "elapsed": 40,
     "status": "ok",
     "timestamp": 1657356989618,
     "user": {
      "displayName": "Omkar Nigade",
      "userId": "08511026517490603050"
     },
     "user_tz": -330
    },
    "id": "XjrLDPtdPORD"
   },
   "outputs": [],
   "source": [
    "# Scaling our data \n",
    "from sklearn.preprocessing import StandardScaler\n",
    "\n",
    "X_scaled = StandardScaler().fit_transform(X)"
   ]
  },
  {
   "cell_type": "code",
   "execution_count": 53,
   "id": "yTEiboESPOT-",
   "metadata": {
    "executionInfo": {
     "elapsed": 39,
     "status": "ok",
     "timestamp": 1657356989618,
     "user": {
      "displayName": "Omkar Nigade",
      "userId": "08511026517490603050"
     },
     "user_tz": -330
    },
    "id": "yTEiboESPOT-"
   },
   "outputs": [],
   "source": [
    "# importing neccesary libraries to split data into train test\n",
    "from sklearn.model_selection import train_test_split\n",
    "# Spliting Data into train data and test data \n",
    "X_train, X_test, y_train, y_test = train_test_split(X_scaled, y,test_size=0.2,  random_state=1,stratify=y)"
   ]
  },
  {
   "cell_type": "code",
   "execution_count": 54,
   "id": "n-RbR13VPOdY",
   "metadata": {
    "executionInfo": {
     "elapsed": 38,
     "status": "ok",
     "timestamp": 1657356989618,
     "user": {
      "displayName": "Omkar Nigade",
      "userId": "08511026517490603050"
     },
     "user_tz": -330
    },
    "id": "n-RbR13VPOdY"
   },
   "outputs": [],
   "source": [
    "# importing model\n",
    "from sklearn.linear_model import LogisticRegression\n",
    "# instantiate model\n",
    "lr = LogisticRegression(solver='lbfgs',penalty='l2',)\n",
    "# fit a model\n",
    "lr.fit(X_train,y_train)\n",
    "# predicting using test data set\n",
    "y_pred=lr.predict(X_test)"
   ]
  },
  {
   "cell_type": "code",
   "execution_count": 55,
   "id": "A659Go9qS_kU",
   "metadata": {
    "colab": {
     "base_uri": "https://localhost:8080/"
    },
    "executionInfo": {
     "elapsed": 38,
     "status": "ok",
     "timestamp": 1657356989619,
     "user": {
      "displayName": "Omkar Nigade",
      "userId": "08511026517490603050"
     },
     "user_tz": -330
    },
    "id": "A659Go9qS_kU",
    "outputId": "b3a2296c-0697-4b68-a446-667dab4b54f7"
   },
   "outputs": [
    {
     "name": "stdout",
     "output_type": "stream",
     "text": [
      "0.8314220183486238\n"
     ]
    }
   ],
   "source": [
    "# train data accuracy\n",
    "print(lr.score(X_train,y_train))"
   ]
  },
  {
   "cell_type": "code",
   "execution_count": 56,
   "id": "DoCMf4RkPYFo",
   "metadata": {
    "colab": {
     "base_uri": "https://localhost:8080/"
    },
    "executionInfo": {
     "elapsed": 32,
     "status": "ok",
     "timestamp": 1657356989619,
     "user": {
      "displayName": "Omkar Nigade",
      "userId": "08511026517490603050"
     },
     "user_tz": -330
    },
    "id": "DoCMf4RkPYFo",
    "outputId": "f2795c9f-9867-4b02-eb57-d370747f11bd"
   },
   "outputs": [
    {
     "name": "stdout",
     "output_type": "stream",
     "text": [
      "0.8395164651938307\n"
     ]
    }
   ],
   "source": [
    "# test data accuracy\n",
    "print(lr.score(X_test,y_test))"
   ]
  },
  {
   "cell_type": "code",
   "execution_count": 57,
   "id": "dtBDvJw6PYPx",
   "metadata": {
    "colab": {
     "base_uri": "https://localhost:8080/"
    },
    "executionInfo": {
     "elapsed": 27,
     "status": "ok",
     "timestamp": 1657356989620,
     "user": {
      "displayName": "Omkar Nigade",
      "userId": "08511026517490603050"
     },
     "user_tz": -330
    },
    "id": "dtBDvJw6PYPx",
    "outputId": "badcfffd-e19b-481b-adef-fd00d175eeac"
   },
   "outputs": [
    {
     "name": "stdout",
     "output_type": "stream",
     "text": [
      "              precision    recall  f1-score   support\n",
      "\n",
      "           0       0.86      0.96      0.91      2001\n",
      "           1       0.54      0.21      0.30       398\n",
      "\n",
      "    accuracy                           0.84      2399\n",
      "   macro avg       0.70      0.59      0.61      2399\n",
      "weighted avg       0.81      0.84      0.81      2399\n",
      "\n"
     ]
    }
   ],
   "source": [
    "# Checking performance measure for  new model. \n",
    "print(classification_report(y_test, y_pred))"
   ]
  },
  {
   "cell_type": "code",
   "execution_count": 58,
   "id": "eJgQJWDNXm8l",
   "metadata": {
    "colab": {
     "base_uri": "https://localhost:8080/"
    },
    "executionInfo": {
     "elapsed": 21,
     "status": "ok",
     "timestamp": 1657356989620,
     "user": {
      "displayName": "Omkar Nigade",
      "userId": "08511026517490603050"
     },
     "user_tz": -330
    },
    "id": "eJgQJWDNXm8l",
    "outputId": "eca56f73-07b8-40e8-c501-32d581a05cb3"
   },
   "outputs": [
    {
     "name": "stdout",
     "output_type": "stream",
     "text": [
      "[[1930   71]\n",
      " [ 314   84]]\n"
     ]
    }
   ],
   "source": [
    "# printing Confusion matrix\n",
    "print(confusion_matrix(y_test,y_pred))"
   ]
  },
  {
   "cell_type": "code",
   "execution_count": 59,
   "id": "V8zGt2YqFVpL",
   "metadata": {
    "executionInfo": {
     "elapsed": 18,
     "status": "ok",
     "timestamp": 1657356989621,
     "user": {
      "displayName": "Omkar Nigade",
      "userId": "08511026517490603050"
     },
     "user_tz": -330
    },
    "id": "V8zGt2YqFVpL"
   },
   "outputs": [],
   "source": [
    "# here our train accuracy is 83.14% and test accuracy is 83.95% but there is still problem in recall 0.21 and f1 score 0.30\n",
    "# because of our data is imbalance recall and f1 score is low \n",
    "# we got some accuracy in updated model but it is not enough.\n",
    "# so we can't say our model is best fit. \n"
   ]
  },
  {
   "cell_type": "code",
   "execution_count": 60,
   "id": "oi7lQUvcFVsD",
   "metadata": {
    "executionInfo": {
     "elapsed": 17,
     "status": "ok",
     "timestamp": 1657356989621,
     "user": {
      "displayName": "Omkar Nigade",
      "userId": "08511026517490603050"
     },
     "user_tz": -330
    },
    "id": "oi7lQUvcFVsD"
   },
   "outputs": [],
   "source": [
    "# so we will goes toward support vector machine to classify our observation correctly.\n",
    "# In Support Vector Machine(SVM) we use  Support Vector Classifier(SVC) "
   ]
  },
  {
   "cell_type": "code",
   "execution_count": null,
   "id": "8gZmWgymXor-",
   "metadata": {
    "executionInfo": {
     "elapsed": 17,
     "status": "ok",
     "timestamp": 1657356989622,
     "user": {
      "displayName": "Omkar Nigade",
      "userId": "08511026517490603050"
     },
     "user_tz": -330
    },
    "id": "8gZmWgymXor-"
   },
   "outputs": [],
   "source": []
  },
  {
   "cell_type": "code",
   "execution_count": null,
   "id": "DAL6CD8xXou3",
   "metadata": {
    "executionInfo": {
     "elapsed": 17,
     "status": "ok",
     "timestamp": 1657356989622,
     "user": {
      "displayName": "Omkar Nigade",
      "userId": "08511026517490603050"
     },
     "user_tz": -330
    },
    "id": "DAL6CD8xXou3"
   },
   "outputs": [],
   "source": []
  },
  {
   "cell_type": "code",
   "execution_count": 61,
   "id": "rZW1MyH0nvC1",
   "metadata": {
    "executionInfo": {
     "elapsed": 19,
     "status": "ok",
     "timestamp": 1657356989624,
     "user": {
      "displayName": "Omkar Nigade",
      "userId": "08511026517490603050"
     },
     "user_tz": -330
    },
    "id": "rZW1MyH0nvC1"
   },
   "outputs": [],
   "source": [
    "from sklearn.model_selection import train_test_split\n",
    "X_train,X_test,y_train,y_test = train_test_split(X,y,random_state=1,test_size=0.2)"
   ]
  },
  {
   "cell_type": "code",
   "execution_count": 62,
   "id": "xnibZFyIK056",
   "metadata": {
    "executionInfo": {
     "elapsed": 1765,
     "status": "ok",
     "timestamp": 1657356991371,
     "user": {
      "displayName": "Omkar Nigade",
      "userId": "08511026517490603050"
     },
     "user_tz": -330
    },
    "id": "xnibZFyIK056"
   },
   "outputs": [],
   "source": [
    "# importing model\n",
    "from sklearn.svm import SVC\n",
    "# Instantiate model\n",
    "svm = SVC()\n",
    "# fit a model\n",
    "svm.fit(X_train, y_train)\n",
    "# predicting using test data set\n",
    "y_pred = svm.predict(X_test)\n",
    "\n",
    "\n"
   ]
  },
  {
   "cell_type": "code",
   "execution_count": 63,
   "id": "-u_KeJaAVMc0",
   "metadata": {
    "colab": {
     "base_uri": "https://localhost:8080/"
    },
    "executionInfo": {
     "elapsed": 3396,
     "status": "ok",
     "timestamp": 1657356994764,
     "user": {
      "displayName": "Omkar Nigade",
      "userId": "08511026517490603050"
     },
     "user_tz": -330
    },
    "id": "-u_KeJaAVMc0",
    "outputId": "4c56f61b-d82d-4f73-a15f-e9adf9a923bc"
   },
   "outputs": [
    {
     "name": "stdout",
     "output_type": "stream",
     "text": [
      "0.8355921601334445\n",
      "0.8274280950395998\n"
     ]
    }
   ],
   "source": [
    "# train accuracy\n",
    "print(svm.score(X_train,y_train))\n",
    "# test accuracy\n",
    "print(svm.score(X_test,y_test))"
   ]
  },
  {
   "cell_type": "code",
   "execution_count": 64,
   "id": "k4bsiQ4AK07L",
   "metadata": {
    "colab": {
     "base_uri": "https://localhost:8080/"
    },
    "executionInfo": {
     "elapsed": 13,
     "status": "ok",
     "timestamp": 1657356994765,
     "user": {
      "displayName": "Omkar Nigade",
      "userId": "08511026517490603050"
     },
     "user_tz": -330
    },
    "id": "k4bsiQ4AK07L",
    "outputId": "646b213b-649a-4ab2-d3ba-ea1060dcb13d"
   },
   "outputs": [
    {
     "name": "stdout",
     "output_type": "stream",
     "text": [
      "              precision    recall  f1-score   support\n",
      "\n",
      "           0       0.83      1.00      0.91      1985\n",
      "           1       0.00      0.00      0.00       414\n",
      "\n",
      "    accuracy                           0.83      2399\n",
      "   macro avg       0.41      0.50      0.45      2399\n",
      "weighted avg       0.68      0.83      0.75      2399\n",
      "\n"
     ]
    }
   ],
   "source": [
    "# Checking performance measure for SVM\n",
    "print(classification_report(y_test, y_pred))"
   ]
  },
  {
   "cell_type": "code",
   "execution_count": 65,
   "id": "tcl56JvaXp_9",
   "metadata": {
    "colab": {
     "base_uri": "https://localhost:8080/"
    },
    "executionInfo": {
     "elapsed": 8,
     "status": "ok",
     "timestamp": 1657356994765,
     "user": {
      "displayName": "Omkar Nigade",
      "userId": "08511026517490603050"
     },
     "user_tz": -330
    },
    "id": "tcl56JvaXp_9",
    "outputId": "dfab79c0-f495-4409-e1fe-3e2d2e70dc27"
   },
   "outputs": [
    {
     "name": "stdout",
     "output_type": "stream",
     "text": [
      "[[1985    0]\n",
      " [ 414    0]]\n"
     ]
    }
   ],
   "source": [
    "# printing Confusion matrix\n",
    "print(confusion_matrix(y_test,y_pred))"
   ]
  },
  {
   "cell_type": "code",
   "execution_count": 66,
   "id": "Tj0WnuyjVn35",
   "metadata": {
    "executionInfo": {
     "elapsed": 6,
     "status": "ok",
     "timestamp": 1657356994766,
     "user": {
      "displayName": "Omkar Nigade",
      "userId": "08511026517490603050"
     },
     "user_tz": -330
    },
    "id": "Tj0WnuyjVn35"
   },
   "outputs": [],
   "source": [
    "# here in SVM train accuracy is 83.55% and test accuracy is 82.74% \n",
    "# but the precision, recall, and f1 score is get 0.\n",
    "# so this is not a proper model we get.\n",
    "# It is nesaccary to hypertune the model parameter to get best fit model to predict more accuratly.\n"
   ]
  },
  {
   "cell_type": "code",
   "execution_count": 67,
   "id": "zPLiLKnlVn6u",
   "metadata": {
    "executionInfo": {
     "elapsed": 5,
     "status": "ok",
     "timestamp": 1657356994766,
     "user": {
      "displayName": "Omkar Nigade",
      "userId": "08511026517490603050"
     },
     "user_tz": -330
    },
    "id": "zPLiLKnlVn6u"
   },
   "outputs": [],
   "source": [
    "# fitting model on Scaled data or scaled input variable with stratification"
   ]
  },
  {
   "cell_type": "code",
   "execution_count": 68,
   "id": "p0h1uGPgK1B9",
   "metadata": {
    "executionInfo": {
     "elapsed": 5,
     "status": "ok",
     "timestamp": 1657356994766,
     "user": {
      "displayName": "Omkar Nigade",
      "userId": "08511026517490603050"
     },
     "user_tz": -330
    },
    "id": "p0h1uGPgK1B9"
   },
   "outputs": [],
   "source": [
    "from sklearn.model_selection import train_test_split\n",
    "X_train, X_test, y_train, y_test = train_test_split(X_scaled, y,test_size=0.2,  random_state=1,stratify=y)"
   ]
  },
  {
   "cell_type": "code",
   "execution_count": 69,
   "id": "KDSIcPdtK1QS",
   "metadata": {
    "colab": {
     "base_uri": "https://localhost:8080/"
    },
    "executionInfo": {
     "elapsed": 619,
     "status": "ok",
     "timestamp": 1657356995380,
     "user": {
      "displayName": "Omkar Nigade",
      "userId": "08511026517490603050"
     },
     "user_tz": -330
    },
    "id": "KDSIcPdtK1QS",
    "outputId": "bbb82455-ae31-4d47-ad62-4f97d3bb26f3"
   },
   "outputs": [
    {
     "name": "stdout",
     "output_type": "stream",
     "text": [
      "              precision    recall  f1-score   support\n",
      "\n",
      "           0       0.98      0.98      0.98      2001\n",
      "           1       0.92      0.90      0.91       398\n",
      "\n",
      "    accuracy                           0.97      2399\n",
      "   macro avg       0.95      0.94      0.95      2399\n",
      "weighted avg       0.97      0.97      0.97      2399\n",
      "\n"
     ]
    }
   ],
   "source": [
    "# imporing model\n",
    "from sklearn.svm import SVC\n",
    "# Instantiate model\n",
    "svm = SVC()\n",
    "# fit a model\n",
    "svm.fit(X_train, y_train)\n",
    "y_pred = svm.predict(X_test)\n",
    "# predicting using test data set\n",
    "print(classification_report(y_test, y_pred))"
   ]
  },
  {
   "cell_type": "code",
   "execution_count": 70,
   "id": "lQ3qjV1Z9HfJ",
   "metadata": {
    "colab": {
     "base_uri": "https://localhost:8080/"
    },
    "executionInfo": {
     "elapsed": 17,
     "status": "ok",
     "timestamp": 1657356995380,
     "user": {
      "displayName": "Omkar Nigade",
      "userId": "08511026517490603050"
     },
     "user_tz": -330
    },
    "id": "lQ3qjV1Z9HfJ",
    "outputId": "c0f169e6-363b-415a-89bf-60b9594051b4"
   },
   "outputs": [
    {
     "name": "stdout",
     "output_type": "stream",
     "text": [
      "0.9704043351396415\n",
      "0.9704043351396415\n"
     ]
    }
   ],
   "source": [
    "# train data accuracy\n",
    "print(svm.score(X_test, y_test))\n",
    "# test data accuracy \n",
    "print(svm.score(X_test, y_test))"
   ]
  },
  {
   "cell_type": "code",
   "execution_count": 71,
   "id": "eivr0pc8HGk0",
   "metadata": {
    "colab": {
     "base_uri": "https://localhost:8080/"
    },
    "executionInfo": {
     "elapsed": 12,
     "status": "ok",
     "timestamp": 1657356995381,
     "user": {
      "displayName": "Omkar Nigade",
      "userId": "08511026517490603050"
     },
     "user_tz": -330
    },
    "id": "eivr0pc8HGk0",
    "outputId": "36423ed8-2d32-479e-ce9c-12de47d96d20"
   },
   "outputs": [
    {
     "name": "stdout",
     "output_type": "stream",
     "text": [
      "              precision    recall  f1-score   support\n",
      "\n",
      "           0       0.98      0.98      0.98      2001\n",
      "           1       0.92      0.90      0.91       398\n",
      "\n",
      "    accuracy                           0.97      2399\n",
      "   macro avg       0.95      0.94      0.95      2399\n",
      "weighted avg       0.97      0.97      0.97      2399\n",
      "\n"
     ]
    }
   ],
   "source": [
    "# performance measure for model\n",
    "print(classification_report(y_test, y_pred))"
   ]
  },
  {
   "cell_type": "code",
   "execution_count": 72,
   "id": "qrl_NrmdHGzV",
   "metadata": {
    "colab": {
     "base_uri": "https://localhost:8080/"
    },
    "executionInfo": {
     "elapsed": 8,
     "status": "ok",
     "timestamp": 1657356995381,
     "user": {
      "displayName": "Omkar Nigade",
      "userId": "08511026517490603050"
     },
     "user_tz": -330
    },
    "id": "qrl_NrmdHGzV",
    "outputId": "085f790f-8153-4a27-f14c-994cc43a0c56"
   },
   "outputs": [
    {
     "name": "stdout",
     "output_type": "stream",
     "text": [
      "[[1968   33]\n",
      " [  38  360]]\n"
     ]
    }
   ],
   "source": [
    "# printing confusion matrix\n",
    "print(confusion_matrix(y_test,y_pred))"
   ]
  },
  {
   "cell_type": "code",
   "execution_count": 73,
   "id": "vTpmTj0oHG_d",
   "metadata": {
    "executionInfo": {
     "elapsed": 6,
     "status": "ok",
     "timestamp": 1657356995382,
     "user": {
      "displayName": "Omkar Nigade",
      "userId": "08511026517490603050"
     },
     "user_tz": -330
    },
    "id": "vTpmTj0oHG_d"
   },
   "outputs": [],
   "source": [
    "# here our train accuracy is 97.04%  and test accuracy is 0.97.04% and  recall is 0.90 and f1 score is 0.98\n",
    "# hence accuracy, f1 score anf recall are good enough\n",
    "# we got some accuracy more in updated model but it is not enough.\n",
    "# so we cansay our model is best fit. \n",
    "# but can still increase model accuracy using hyperparameter tunning\n"
   ]
  },
  {
   "cell_type": "code",
   "execution_count": 74,
   "id": "SYT9x9I5a3SL",
   "metadata": {
    "colab": {
     "base_uri": "https://localhost:8080/"
    },
    "executionInfo": {
     "elapsed": 148795,
     "status": "ok",
     "timestamp": 1657357144172,
     "user": {
      "displayName": "Omkar Nigade",
      "userId": "08511026517490603050"
     },
     "user_tz": -330
    },
    "id": "SYT9x9I5a3SL",
    "outputId": "8d9b1b23-57df-47f8-ff73-f589d8534a58"
   },
   "outputs": [
    {
     "data": {
      "text/plain": [
       "GridSearchCV(cv=StratifiedShuffleSplit(n_splits=10, random_state=1, test_size=0.2,\n",
       "            train_size=None),\n",
       "             estimator=SVC(),\n",
       "             param_grid={'C': [0.5, 0.6, 0.7, 0.8, 0.9, 1.0], 'gamma': [1, 0.1],\n",
       "                         'kernel': ['rbf']})"
      ]
     },
     "execution_count": 74,
     "metadata": {},
     "output_type": "execute_result"
    }
   ],
   "source": [
    "# hyperparamter tunning\n",
    "\n",
    "# importing model\n",
    "from sklearn.svm import SVC\n",
    "\n",
    "# instantiate model \n",
    "# here probability  = true because we want to find probability cutoffs\n",
    "sv=SVC(probability=True)\n",
    "# importing model for validation\n",
    "from sklearn.model_selection import GridSearchCV\n",
    "from sklearn.model_selection import StratifiedShuffleSplit\n",
    "\n",
    "# list of parameter which are hypertunned\n",
    "params = {'C':[0.5,0.6,0.7,0.8,0.9,1.0],\n",
    "              'gamma': [1, 0.1],\n",
    "              'kernel':['rbf']}\n",
    "\n",
    "cv = StratifiedShuffleSplit(n_splits=10, test_size=0.20, random_state=1)\n",
    " \n",
    "grid = GridSearchCV(SVC(), params, cv=cv)\n",
    "\n",
    "grid.fit(X_train, y_train)"
   ]
  },
  {
   "cell_type": "code",
   "execution_count": 75,
   "id": "IocgbxSsa3UG",
   "metadata": {
    "colab": {
     "base_uri": "https://localhost:8080/"
    },
    "executionInfo": {
     "elapsed": 27,
     "status": "ok",
     "timestamp": 1657357144173,
     "user": {
      "displayName": "Omkar Nigade",
      "userId": "08511026517490603050"
     },
     "user_tz": -330
    },
    "id": "IocgbxSsa3UG",
    "outputId": "c87ba8be-1fb7-49e4-cc18-84bfa39615d9"
   },
   "outputs": [
    {
     "name": "stdout",
     "output_type": "stream",
     "text": [
      "0.9721208963001564\n",
      "{'C': 1.0, 'gamma': 1, 'kernel': 'rbf'}\n",
      "SVC(gamma=1)\n"
     ]
    }
   ],
   "source": [
    "# Best model score or accuracy after hypertuning the model\n",
    "print(grid.best_score_)\n",
    "# Best model parameters after hypertuning the model\n",
    "print(grid.best_params_)\n",
    "# Best model estimators after hypertuning the model\n",
    "print(grid.best_estimator_)"
   ]
  },
  {
   "cell_type": "code",
   "execution_count": 76,
   "id": "-C38rqrOc3Tk",
   "metadata": {
    "executionInfo": {
     "elapsed": 21,
     "status": "ok",
     "timestamp": 1657357144173,
     "user": {
      "displayName": "Omkar Nigade",
      "userId": "08511026517490603050"
     },
     "user_tz": -330
    },
    "id": "-C38rqrOc3Tk"
   },
   "outputs": [],
   "source": [
    "# after hyperparameter tunning we can see that we get a best parameter to fit best model to our data\n",
    "# our best kernel for SVM is 'rbf' and gamma paramet and C parameter is 1 for both"
   ]
  },
  {
   "cell_type": "code",
   "execution_count": 77,
   "id": "XS9CbJhIa3W7",
   "metadata": {
    "colab": {
     "base_uri": "https://localhost:8080/"
    },
    "executionInfo": {
     "elapsed": 12597,
     "status": "ok",
     "timestamp": 1657357156750,
     "user": {
      "displayName": "Omkar Nigade",
      "userId": "08511026517490603050"
     },
     "user_tz": -330
    },
    "id": "XS9CbJhIa3W7",
    "outputId": "8ec01f3e-64e2-4ea7-f973-7497f25953ba"
   },
   "outputs": [
    {
     "data": {
      "text/plain": [
       "array([0, 0, 1, ..., 0, 0, 0], dtype=int64)"
      ]
     },
     "execution_count": 77,
     "metadata": {},
     "output_type": "execute_result"
    }
   ],
   "source": [
    "# fit a model using best Parameter get after hypertunnig\n",
    "\n",
    "sv_grid=SVC(C=1.0, gamma=1,kernel='rbf',probability=True)\n",
    "sv_grid.fit(X_train,y_train)\n",
    "# predicting using test data\n",
    "y_pred=sv_grid.predict(X_test)\n",
    "y_pred"
   ]
  },
  {
   "cell_type": "code",
   "execution_count": 78,
   "id": "n08Ak_RnhZps",
   "metadata": {
    "colab": {
     "base_uri": "https://localhost:8080/"
    },
    "executionInfo": {
     "elapsed": 40,
     "status": "ok",
     "timestamp": 1657357156751,
     "user": {
      "displayName": "Omkar Nigade",
      "userId": "08511026517490603050"
     },
     "user_tz": -330
    },
    "id": "n08Ak_RnhZps",
    "outputId": "a5d33bfa-642b-4497-df08-07d039db489c"
   },
   "outputs": [
    {
     "name": "stdout",
     "output_type": "stream",
     "text": [
      "[[1988   13]\n",
      " [  43  355]]\n"
     ]
    }
   ],
   "source": [
    "# printing Confusion matrix\n",
    "print(confusion_matrix(y_test,y_pred))"
   ]
  },
  {
   "cell_type": "code",
   "execution_count": 79,
   "id": "V7aBNtERa3Zp",
   "metadata": {
    "colab": {
     "base_uri": "https://localhost:8080/"
    },
    "executionInfo": {
     "elapsed": 2085,
     "status": "ok",
     "timestamp": 1657357158805,
     "user": {
      "displayName": "Omkar Nigade",
      "userId": "08511026517490603050"
     },
     "user_tz": -330
    },
    "id": "V7aBNtERa3Zp",
    "outputId": "ca8559db-879c-4f5e-e5b9-d14282bee368"
   },
   "outputs": [
    {
     "name": "stdout",
     "output_type": "stream",
     "text": [
      "Accuracy_score on train data : 0.9825896580483736\n",
      "Accuracy score on test data:  0.9766569403918299\n"
     ]
    }
   ],
   "source": [
    "# Checking performance measure for best parameter fit model\n",
    "from sklearn.metrics import accuracy_score\n",
    "sv_grid_tr=accuracy_score(y_true=y_train,y_pred=sv_grid.predict(X_train))\n",
    "sv_grid_t=accuracy_score(y_true=y_test,y_pred=y_pred)\n",
    "print('Accuracy_score on train data :',sv_grid_tr)\n",
    "print('Accuracy score on test data: ',sv_grid_t)"
   ]
  },
  {
   "cell_type": "code",
   "execution_count": 80,
   "id": "RCqo3DygNRDp",
   "metadata": {
    "colab": {
     "base_uri": "https://localhost:8080/"
    },
    "executionInfo": {
     "elapsed": 49,
     "status": "ok",
     "timestamp": 1657357158806,
     "user": {
      "displayName": "Omkar Nigade",
      "userId": "08511026517490603050"
     },
     "user_tz": -330
    },
    "id": "RCqo3DygNRDp",
    "outputId": "de5de2bf-dd11-4f2f-8cbd-0c2b49e9cef2"
   },
   "outputs": [
    {
     "name": "stdout",
     "output_type": "stream",
     "text": [
      "              precision    recall  f1-score   support\n",
      "\n",
      "           0       0.98      0.99      0.99      2001\n",
      "           1       0.96      0.89      0.93       398\n",
      "\n",
      "    accuracy                           0.98      2399\n",
      "   macro avg       0.97      0.94      0.96      2399\n",
      "weighted avg       0.98      0.98      0.98      2399\n",
      "\n"
     ]
    }
   ],
   "source": [
    "# performance measure for model\n",
    "print(classification_report(y_test, y_pred))"
   ]
  },
  {
   "cell_type": "code",
   "execution_count": 81,
   "id": "xZGSBVIYepHn",
   "metadata": {
    "executionInfo": {
     "elapsed": 39,
     "status": "ok",
     "timestamp": 1657357158807,
     "user": {
      "displayName": "Omkar Nigade",
      "userId": "08511026517490603050"
     },
     "user_tz": -330
    },
    "id": "xZGSBVIYepHn"
   },
   "outputs": [],
   "source": [
    "# after fiting model using best parameter obtain in hypertuning \n",
    "# we get a dream accuracy for our data and now we say that our model is best fit\n",
    "# here train accuracy is 98.26 % and test accuracy is 97.66% this conclude that our model is best fit model \n",
    "# make predictions most accurately"
   ]
  },
  {
   "cell_type": "code",
   "execution_count": 82,
   "id": "TcjkS55bMUEU",
   "metadata": {
    "executionInfo": {
     "elapsed": 39,
     "status": "ok",
     "timestamp": 1657357158808,
     "user": {
      "displayName": "Omkar Nigade",
      "userId": "08511026517490603050"
     },
     "user_tz": -330
    },
    "id": "TcjkS55bMUEU"
   },
   "outputs": [],
   "source": [
    "# predictProbabilities"
   ]
  },
  {
   "cell_type": "code",
   "execution_count": 83,
   "id": "mtXFRH8HMUWo",
   "metadata": {
    "colab": {
     "base_uri": "https://localhost:8080/"
    },
    "executionInfo": {
     "elapsed": 37,
     "status": "ok",
     "timestamp": 1657357158808,
     "user": {
      "displayName": "Omkar Nigade",
      "userId": "08511026517490603050"
     },
     "user_tz": -330
    },
    "id": "mtXFRH8HMUWo",
    "outputId": "071fc780-cb33-4eb3-c50b-0d27620f5eed"
   },
   "outputs": [
    {
     "data": {
      "text/plain": [
       "array([[0.97235008, 0.02764992],\n",
       "       [0.97788948, 0.02211052],\n",
       "       [0.08240299, 0.91759701],\n",
       "       ...,\n",
       "       [0.9916781 , 0.0083219 ],\n",
       "       [0.98400124, 0.01599876],\n",
       "       [0.98088028, 0.01911972]])"
      ]
     },
     "execution_count": 83,
     "metadata": {},
     "output_type": "execute_result"
    }
   ],
   "source": [
    "y_hat=(sv_grid.predict_proba(X_test))\n",
    "y_hat"
   ]
  },
  {
   "cell_type": "code",
   "execution_count": 84,
   "id": "Cmcvn5TxMUYd",
   "metadata": {
    "colab": {
     "base_uri": "https://localhost:8080/"
    },
    "executionInfo": {
     "elapsed": 30,
     "status": "ok",
     "timestamp": 1657357158809,
     "user": {
      "displayName": "Omkar Nigade",
      "userId": "08511026517490603050"
     },
     "user_tz": -330
    },
    "id": "Cmcvn5TxMUYd",
    "outputId": "2a5d4b22-44a9-4880-a936-fe90ed88f126"
   },
   "outputs": [
    {
     "data": {
      "text/plain": [
       "array([0.02764992, 0.02211052, 0.91759701, ..., 0.0083219 , 0.01599876,\n",
       "       0.01911972])"
      ]
     },
     "execution_count": 84,
     "metadata": {},
     "output_type": "execute_result"
    }
   ],
   "source": [
    "# keep probabilities for the positive outcome only\n",
    "y_hat = y_hat[:,1]\n",
    "y_hat\n",
    "\n"
   ]
  },
  {
   "cell_type": "code",
   "execution_count": 85,
   "id": "b0F27WyWMUcd",
   "metadata": {
    "colab": {
     "base_uri": "https://localhost:8080/"
    },
    "executionInfo": {
     "elapsed": 24,
     "status": "ok",
     "timestamp": 1657357158810,
     "user": {
      "displayName": "Omkar Nigade",
      "userId": "08511026517490603050"
     },
     "user_tz": -330
    },
    "id": "b0F27WyWMUcd",
    "outputId": "1cc914ce-7801-4580-facc-6328328b5843"
   },
   "outputs": [
    {
     "data": {
      "text/plain": [
       "array([1.99999886e+00, 9.99998857e-01, 9.84459949e-01, 9.84285579e-01,\n",
       "       9.74835002e-01, 9.74579286e-01, 9.49788681e-01, 9.49663623e-01,\n",
       "       8.62443140e-01, 8.05968449e-01, 7.64517633e-01, 7.46003916e-01,\n",
       "       7.42325323e-01, 7.28417545e-01, 7.14879142e-01, 7.04817161e-01,\n",
       "       6.36381306e-01, 4.67863552e-01, 3.93358244e-01, 3.36233702e-01,\n",
       "       3.35079045e-01, 2.06072514e-01, 1.98001459e-01, 1.58340955e-01,\n",
       "       1.52965098e-01, 8.19836474e-02, 7.92437616e-02, 7.38736436e-02,\n",
       "       7.37060218e-02, 5.63116839e-02, 5.54220133e-02, 4.10625007e-02,\n",
       "       4.08286001e-02, 3.60835906e-02, 3.54555527e-02, 3.36525881e-02,\n",
       "       3.35585789e-02, 3.30920105e-02, 3.30878823e-02, 3.16624231e-02,\n",
       "       3.16450686e-02, 3.01103108e-02, 3.01023375e-02, 2.85371577e-02,\n",
       "       2.84275212e-02, 2.82970369e-02, 2.82926984e-02, 2.79983068e-02,\n",
       "       2.79752700e-02, 2.70776362e-02, 2.70442286e-02, 2.65150289e-02,\n",
       "       2.65140056e-02, 2.57962599e-02, 2.57770477e-02, 2.52658683e-02,\n",
       "       2.52175772e-02, 2.51666832e-02, 2.50896224e-02, 2.50062244e-02,\n",
       "       2.49962968e-02, 2.46799390e-02, 2.46782059e-02, 2.45972868e-02,\n",
       "       2.45669762e-02, 2.38159532e-02, 2.38133424e-02, 2.35982578e-02,\n",
       "       2.35972659e-02, 2.32614762e-02, 2.32574679e-02, 2.26580456e-02,\n",
       "       2.26380607e-02, 2.24942773e-02, 2.24803395e-02, 2.24041281e-02,\n",
       "       2.23912613e-02, 2.21214899e-02, 2.21105176e-02, 2.06189471e-02,\n",
       "       2.06056590e-02, 2.03797434e-02, 2.03650553e-02, 2.02157279e-02,\n",
       "       2.02034255e-02, 1.91197173e-02, 1.91196563e-02, 1.90217897e-02,\n",
       "       1.90151855e-02, 1.56926816e-02, 1.56887947e-02, 1.56484919e-02,\n",
       "       1.56249354e-02, 1.36067814e-02, 1.35663937e-02, 1.11001951e-02,\n",
       "       1.10638340e-02, 8.35416140e-03, 8.35229557e-03, 5.76984480e-03,\n",
       "       5.69818797e-03, 1.64558668e-03])"
      ]
     },
     "execution_count": 85,
     "metadata": {},
     "output_type": "execute_result"
    }
   ],
   "source": [
    "# calculate roc curve \n",
    "fpr, tpr, threshold = roc_curve(y_test,y_hat)\n",
    "threshold\n",
    "\n"
   ]
  },
  {
   "cell_type": "code",
   "execution_count": 86,
   "id": "LkvXq1HMMUeT",
   "metadata": {
    "colab": {
     "base_uri": "https://localhost:8080/",
     "height": 424
    },
    "executionInfo": {
     "elapsed": 20,
     "status": "ok",
     "timestamp": 1657357158810,
     "user": {
      "displayName": "Omkar Nigade",
      "userId": "08511026517490603050"
     },
     "user_tz": -330
    },
    "id": "LkvXq1HMMUeT",
    "outputId": "d2a85c1b-5add-4d0a-88c6-84af66a0c329"
   },
   "outputs": [
    {
     "data": {
      "text/html": [
       "<div>\n",
       "<style scoped>\n",
       "    .dataframe tbody tr th:only-of-type {\n",
       "        vertical-align: middle;\n",
       "    }\n",
       "\n",
       "    .dataframe tbody tr th {\n",
       "        vertical-align: top;\n",
       "    }\n",
       "\n",
       "    .dataframe thead th {\n",
       "        text-align: right;\n",
       "    }\n",
       "</style>\n",
       "<table border=\"1\" class=\"dataframe\">\n",
       "  <thead>\n",
       "    <tr style=\"text-align: right;\">\n",
       "      <th></th>\n",
       "      <th>threshold</th>\n",
       "      <th>accuracy</th>\n",
       "    </tr>\n",
       "  </thead>\n",
       "  <tbody>\n",
       "    <tr>\n",
       "      <th>16</th>\n",
       "      <td>0.636381</td>\n",
       "      <td>0.977074</td>\n",
       "    </tr>\n",
       "    <tr>\n",
       "      <th>18</th>\n",
       "      <td>0.393358</td>\n",
       "      <td>0.977074</td>\n",
       "    </tr>\n",
       "    <tr>\n",
       "      <th>19</th>\n",
       "      <td>0.336234</td>\n",
       "      <td>0.976657</td>\n",
       "    </tr>\n",
       "    <tr>\n",
       "      <th>17</th>\n",
       "      <td>0.467864</td>\n",
       "      <td>0.976657</td>\n",
       "    </tr>\n",
       "    <tr>\n",
       "      <th>20</th>\n",
       "      <td>0.335079</td>\n",
       "      <td>0.976240</td>\n",
       "    </tr>\n",
       "    <tr>\n",
       "      <th>...</th>\n",
       "      <td>...</td>\n",
       "      <td>...</td>\n",
       "    </tr>\n",
       "    <tr>\n",
       "      <th>97</th>\n",
       "      <td>0.008354</td>\n",
       "      <td>0.236348</td>\n",
       "    </tr>\n",
       "    <tr>\n",
       "      <th>98</th>\n",
       "      <td>0.008352</td>\n",
       "      <td>0.235932</td>\n",
       "    </tr>\n",
       "    <tr>\n",
       "      <th>99</th>\n",
       "      <td>0.005770</td>\n",
       "      <td>0.194248</td>\n",
       "    </tr>\n",
       "    <tr>\n",
       "      <th>100</th>\n",
       "      <td>0.005698</td>\n",
       "      <td>0.193831</td>\n",
       "    </tr>\n",
       "    <tr>\n",
       "      <th>101</th>\n",
       "      <td>0.001646</td>\n",
       "      <td>0.166319</td>\n",
       "    </tr>\n",
       "  </tbody>\n",
       "</table>\n",
       "<p>102 rows × 2 columns</p>\n",
       "</div>"
      ],
      "text/plain": [
       "     threshold  accuracy\n",
       "16    0.636381  0.977074\n",
       "18    0.393358  0.977074\n",
       "19    0.336234  0.976657\n",
       "17    0.467864  0.976657\n",
       "20    0.335079  0.976240\n",
       "..         ...       ...\n",
       "97    0.008354  0.236348\n",
       "98    0.008352  0.235932\n",
       "99    0.005770  0.194248\n",
       "100   0.005698  0.193831\n",
       "101   0.001646  0.166319\n",
       "\n",
       "[102 rows x 2 columns]"
      ]
     },
     "execution_count": 86,
     "metadata": {},
     "output_type": "execute_result"
    }
   ],
   "source": [
    "from sklearn.metrics import accuracy_score\n",
    "accuracy_pc = []\n",
    "for thres in threshold:\n",
    "  y_pred_prob = np.where(y_hat>thres,1,0)\n",
    "  accuracy_pc.append(accuracy_score(y_test,y_pred_prob,normalize=True))\n",
    "accuracy_pc=pd.concat([pd.Series(threshold),pd.Series(accuracy_pc)],axis=1)\n",
    "accuracy_pc.columns=['threshold','accuracy']\n",
    "accuracy_pc.sort_values(by='accuracy',ascending=False,inplace=True)\n",
    "accuracy_pc\n",
    "\n"
   ]
  },
  {
   "cell_type": "code",
   "execution_count": null,
   "id": "tUntiy6Eo7a-",
   "metadata": {
    "executionInfo": {
     "elapsed": 19,
     "status": "ok",
     "timestamp": 1657357158811,
     "user": {
      "displayName": "Omkar Nigade",
      "userId": "08511026517490603050"
     },
     "user_tz": -330
    },
    "id": "tUntiy6Eo7a-"
   },
   "outputs": [],
   "source": []
  },
  {
   "cell_type": "code",
   "execution_count": null,
   "id": "wW1uAF4PMUib",
   "metadata": {
    "executionInfo": {
     "elapsed": 19,
     "status": "ok",
     "timestamp": 1657357158812,
     "user": {
      "displayName": "Omkar Nigade",
      "userId": "08511026517490603050"
     },
     "user_tz": -330
    },
    "id": "wW1uAF4PMUib"
   },
   "outputs": [],
   "source": []
  },
  {
   "cell_type": "code",
   "execution_count": 87,
   "id": "oKo0bz8-MVLM",
   "metadata": {
    "colab": {
     "base_uri": "https://localhost:8080/",
     "height": 279
    },
    "executionInfo": {
     "elapsed": 20,
     "status": "ok",
     "timestamp": 1657357158813,
     "user": {
      "displayName": "Omkar Nigade",
      "userId": "08511026517490603050"
     },
     "user_tz": -330
    },
    "id": "oKo0bz8-MVLM",
    "outputId": "3add9083-b28e-4233-dda4-68b0fe7944e8"
   },
   "outputs": [
    {
     "data": {
      "image/png": "[encoded data removed]",
      "text/plain": [
       "<Figure size 640x480 with 1 Axes>"
      ]
     },
     "metadata": {},
     "output_type": "display_data"
    }
   ],
   "source": [
    "# plot the roc curve for the model\n",
    "plt.plot([0,1], [0,1], color='purple', linestyle='--')\n",
    "plt.plot(fpr, tpr, marker='.',color='orange',label='ROC')\n",
    "# axis labels\n",
    "plt.xlabel('False Positive Rate')\n",
    "plt.ylabel('True Positive Rate')\n",
    "plt.legend()\n",
    "# show the plot\n",
    "plt.show()"
   ]
  },
  {
   "cell_type": "code",
   "execution_count": 88,
   "id": "Sbfbt3siB9Lv",
   "metadata": {
    "executionInfo": {
     "elapsed": 19,
     "status": "ok",
     "timestamp": 1657357158814,
     "user": {
      "displayName": "Omkar Nigade",
      "userId": "08511026517490603050"
     },
     "user_tz": -330
    },
    "id": "Sbfbt3siB9Lv"
   },
   "outputs": [],
   "source": [
    "from sklearn.ensemble import RandomForestClassifier"
   ]
  },
  {
   "cell_type": "code",
   "execution_count": 89,
   "id": "PdcXqD_wE1k2",
   "metadata": {
    "colab": {
     "base_uri": "https://localhost:8080/"
    },
    "executionInfo": {
     "elapsed": 3708,
     "status": "ok",
     "timestamp": 1657357162503,
     "user": {
      "displayName": "Omkar Nigade",
      "userId": "08511026517490603050"
     },
     "user_tz": -330
    },
    "id": "PdcXqD_wE1k2",
    "outputId": "d7911874-022a-4e34-8385-e1b2a92d394f"
   },
   "outputs": [
    {
     "data": {
      "text/plain": [
       "RandomForestClassifier(n_estimators=1000, n_jobs=-1, random_state=1)"
      ]
     },
     "execution_count": 89,
     "metadata": {},
     "output_type": "execute_result"
    }
   ],
   "source": [
    "clf = RandomForestClassifier(n_estimators=1000, random_state=1, n_jobs=-1)\n",
    "clf.fit(X_test,y_test)"
   ]
  },
  {
   "cell_type": "code",
   "execution_count": 90,
   "id": "cKkgpr_1FbFP",
   "metadata": {
    "executionInfo": {
     "elapsed": 30,
     "status": "ok",
     "timestamp": 1657357162503,
     "user": {
      "displayName": "Omkar Nigade",
      "userId": "08511026517490603050"
     },
     "user_tz": -330
    },
    "id": "cKkgpr_1FbFP"
   },
   "outputs": [],
   "source": [
    "y_pred = clf.predict(X_test)"
   ]
  },
  {
   "cell_type": "code",
   "execution_count": 91,
   "id": "wvU56d3bQckD",
   "metadata": {
    "colab": {
     "base_uri": "https://localhost:8080/"
    },
    "executionInfo": {
     "elapsed": 30,
     "status": "ok",
     "timestamp": 1657357162504,
     "user": {
      "displayName": "Omkar Nigade",
      "userId": "08511026517490603050"
     },
     "user_tz": -330
    },
    "id": "wvU56d3bQckD",
    "outputId": "dc747c76-de3d-4e36-a3e1-033b3f7c2e39"
   },
   "outputs": [
    {
     "name": "stdout",
     "output_type": "stream",
     "text": [
      "              precision    recall  f1-score   support\n",
      "\n",
      "           0       1.00      1.00      1.00      2001\n",
      "           1       1.00      1.00      1.00       398\n",
      "\n",
      "    accuracy                           1.00      2399\n",
      "   macro avg       1.00      1.00      1.00      2399\n",
      "weighted avg       1.00      1.00      1.00      2399\n",
      "\n"
     ]
    }
   ],
   "source": [
    "# printing Confusion matrix\n",
    "print(classification_report(y_test,y_pred))"
   ]
  },
  {
   "cell_type": "code",
   "execution_count": 92,
   "id": "vF7vAWephN8H",
   "metadata": {
    "colab": {
     "base_uri": "https://localhost:8080/"
    },
    "executionInfo": {
     "elapsed": 29,
     "status": "ok",
     "timestamp": 1657357162504,
     "user": {
      "displayName": "Omkar Nigade",
      "userId": "08511026517490603050"
     },
     "user_tz": -330
    },
    "id": "vF7vAWephN8H",
    "outputId": "7d72f086-fc58-4cc8-fcca-47e0a8c2a9ed"
   },
   "outputs": [
    {
     "name": "stdout",
     "output_type": "stream",
     "text": [
      "[[2001    0]\n",
      " [   0  398]]\n"
     ]
    }
   ],
   "source": [
    "# printing Confusion matrix\n",
    "print(confusion_matrix(y_test,y_pred))"
   ]
  },
  {
   "cell_type": "code",
   "execution_count": 93,
   "id": "OpWCV2_gF0Di",
   "metadata": {
    "colab": {
     "base_uri": "https://localhost:8080/"
    },
    "executionInfo": {
     "elapsed": 1367,
     "status": "ok",
     "timestamp": 1657357163850,
     "user": {
      "displayName": "Omkar Nigade",
      "userId": "08511026517490603050"
     },
     "user_tz": -330
    },
    "id": "OpWCV2_gF0Di",
    "outputId": "65a78004-578b-4b6a-b1fd-eba2523448af"
   },
   "outputs": [
    {
     "name": "stdout",
     "output_type": "stream",
     "text": [
      "[0.01586775 0.00934884 0.34534967 0.12551106 0.19427899 0.15352231\n",
      " 0.14898002 0.00615705 0.00098432]\n",
      "1.0\n"
     ]
    }
   ],
   "source": [
    "from sklearn.metrics import accuracy_score\n",
    "print(clf.feature_importances_)\n",
    "print(accuracy_score(y_test, y_pred))"
   ]
  },
  {
   "cell_type": "code",
   "execution_count": null,
   "id": "RttzpBbnF3tn",
   "metadata": {
    "executionInfo": {
     "elapsed": 20,
     "status": "ok",
     "timestamp": 1657357163850,
     "user": {
      "displayName": "Omkar Nigade",
      "userId": "08511026517490603050"
     },
     "user_tz": -330
    },
    "id": "RttzpBbnF3tn"
   },
   "outputs": [],
   "source": []
  },
  {
   "cell_type": "code",
   "execution_count": null,
   "id": "CVEaOuZSPE50",
   "metadata": {
    "executionInfo": {
     "elapsed": 21,
     "status": "ok",
     "timestamp": 1657357163851,
     "user": {
      "displayName": "Omkar Nigade",
      "userId": "08511026517490603050"
     },
     "user_tz": -330
    },
    "id": "CVEaOuZSPE50"
   },
   "outputs": [],
   "source": []
  },
  {
   "cell_type": "markdown",
   "id": "chEGxj8DgbF9",
   "metadata": {
    "id": "chEGxj8DgbF9"
   },
   "source": [
    "# Conclusion\n",
    "1. The best fit model our data is in Support Vector Machine Support vector Classifier.\n",
    "2. The best parameter for model is kernel is \"rbf\", gamma parameter is 1 and C parameter is also 1.\n",
    "3. From this best fit SVM model we get test accuracy is 97.66% \n",
    "4. we can predict weather employee left the job or not is 97.66% accurate using above model.\n",
    "5. Best probability cutoff for our model is 0.3381 and Gmean is 0.945."
   ]
  },
  {
   "cell_type": "code",
   "execution_count": null,
   "id": "Mci9RZxpgQtn",
   "metadata": {
    "executionInfo": {
     "elapsed": 20,
     "status": "ok",
     "timestamp": 1657357163851,
     "user": {
      "displayName": "Omkar Nigade",
      "userId": "08511026517490603050"
     },
     "user_tz": -330
    },
    "id": "Mci9RZxpgQtn"
   },
   "outputs": [],
   "source": []
  }
 ],
 "metadata": {
  "colab": {
   "collapsed_sections": [],
   "name": "Hr_Data.ipynb",
   "provenance": []
  },
  "kernelspec": {
   "display_name": "Python 3 (ipykernel)",
   "language": "python",
   "name": "python3"
  },
  "language_info": {
   "codemirror_mode": {
    "name": "ipython",
    "version": 3
   },
   "file_extension": ".py",
   "mimetype": "text/x-python",
   "name": "python",
   "nbconvert_exporter": "python",
   "pygments_lexer": "ipython3",
   "version": "3.9.13"
  }
 },
 "nbformat": 4,
 "nbformat_minor": 5
}
